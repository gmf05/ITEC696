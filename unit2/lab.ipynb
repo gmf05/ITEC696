{
 "cells": [
  {
   "cell_type": "markdown",
   "metadata": {},
   "source": [
    "## Unit 2 Lab#"
   ]
  },
  {
   "cell_type": "markdown",
   "metadata": {},
   "source": [
    "Before starting, save a copy of this file using the terminal. Work on your modified copy so that you don't conflict with the repo.\n",
    "\n",
    "```bash\n",
    "cp lab.ipynb lab_ABC.ipynb     # replace ABC with your initials \n",
    "```\n"
   ]
  },
  {
   "cell_type": "markdown",
   "metadata": {},
   "source": [
    "In this exercise we'll practice string operations and regular expressions. For more notes on regular expressions, see [Dive into Python 3](http://www.diveintopython3.net/regular-expressions.html)."
   ]
  },
  {
   "cell_type": "code",
   "execution_count": 3,
   "metadata": {},
   "outputs": [],
   "source": [
    "test_email = 'aVERYf145hyUSERname101@emailco.net'\n"
   ]
  },
  {
   "cell_type": "markdown",
   "metadata": {},
   "source": [
    "Using string functions and the `re` package, we're going to search for patterns within the variable `test_email`.\n",
    "\n",
    "First, use a string function to separate the email address into a list with 1) username and 2) domain name."
   ]
  },
  {
   "cell_type": "code",
   "execution_count": null,
   "metadata": {},
   "outputs": [],
   "source": []
  },
  {
   "cell_type": "markdown",
   "metadata": {},
   "source": [
    "Now import the package `re` and use the function `re.search()` to get the username.\n",
    "\n",
    "Repeat with the domain name.\n",
    "\n",
    "Repeat getting both the username and domain name using **two** sets of grouping parentheses (see below).\n",
    "\n",
    "**Hint**: You can search for text before / after a match by using grouping parentheses `( )` around the text you're looking for. If a match is found, `re.search` will return a  `_sre.SRE_Match` object. To get matches from grouping parentheses, you can use the match's `groups()` method."
   ]
  },
  {
   "cell_type": "code",
   "execution_count": 59,
   "metadata": {},
   "outputs": [],
   "source": [
    "import re\n",
    "\n",
    "# search_result = re.search('', test_email)"
   ]
  },
  {
   "cell_type": "code",
   "execution_count": 23,
   "metadata": {},
   "outputs": [],
   "source": [
    "# search_result = re.search('', test_email)"
   ]
  },
  {
   "cell_type": "code",
   "execution_count": 22,
   "metadata": {},
   "outputs": [],
   "source": [
    "# search_result = re.search('', test_email)"
   ]
  },
  {
   "cell_type": "markdown",
   "metadata": {},
   "source": [
    "Now let's try using `re.findall()`. What happens in the following three examples?"
   ]
  },
  {
   "cell_type": "code",
   "execution_count": 64,
   "metadata": {},
   "outputs": [
    {
     "data": {
      "text/plain": [
       "['a', 'a', 'a']"
      ]
     },
     "execution_count": 64,
     "metadata": {},
     "output_type": "execute_result"
    }
   ],
   "source": [
    "re.findall('a', test_email)"
   ]
  },
  {
   "cell_type": "code",
   "execution_count": 63,
   "metadata": {},
   "outputs": [
    {
     "data": {
      "text/plain": [
       "['a',\n",
       " 'f',\n",
       " 'h',\n",
       " 'y',\n",
       " 'n',\n",
       " 'a',\n",
       " 'm',\n",
       " 'e',\n",
       " 'e',\n",
       " 'm',\n",
       " 'a',\n",
       " 'i',\n",
       " 'l',\n",
       " 'c',\n",
       " 'o',\n",
       " 'n',\n",
       " 'e',\n",
       " 't']"
      ]
     },
     "execution_count": 63,
     "metadata": {},
     "output_type": "execute_result"
    }
   ],
   "source": [
    "re.findall('[a-z]', test_email)"
   ]
  },
  {
   "cell_type": "code",
   "execution_count": 65,
   "metadata": {},
   "outputs": [
    {
     "data": {
      "text/plain": [
       "['V', 'E', 'R', 'Y', 'U', 'S', 'E', 'R']"
      ]
     },
     "execution_count": 65,
     "metadata": {},
     "output_type": "execute_result"
    }
   ],
   "source": [
    "re.findall('[A-Z]', test_email)"
   ]
  },
  {
   "cell_type": "code",
   "execution_count": 67,
   "metadata": {},
   "outputs": [
    {
     "data": {
      "text/plain": [
       "['a',\n",
       " 'V',\n",
       " 'E',\n",
       " 'R',\n",
       " 'Y',\n",
       " 'f',\n",
       " 'h',\n",
       " 'y',\n",
       " 'U',\n",
       " 'S',\n",
       " 'E',\n",
       " 'R',\n",
       " 'n',\n",
       " 'a',\n",
       " 'm',\n",
       " 'e',\n",
       " 'e',\n",
       " 'm',\n",
       " 'a',\n",
       " 'i',\n",
       " 'l',\n",
       " 'c',\n",
       " 'o',\n",
       " 'n',\n",
       " 'e',\n",
       " 't']"
      ]
     },
     "execution_count": 67,
     "metadata": {},
     "output_type": "execute_result"
    }
   ],
   "source": [
    "re.findall('[A-Za-z]', test_email)"
   ]
  },
  {
   "cell_type": "markdown",
   "metadata": {},
   "source": [
    "Can you modify the line above to include digits as well as upper- and lower-case letters?\n",
    "\n",
    "Can you write a `re.findall()` that gets the domain name? What about one that gets the first two digits? Or the first two letters after the third digit?"
   ]
  },
  {
   "cell_type": "code",
   "execution_count": null,
   "metadata": {},
   "outputs": [],
   "source": []
  }
 ],
 "metadata": {
  "anaconda-cloud": {},
  "kernelspec": {
   "display_name": "Python 3",
   "language": "python",
   "name": "python3"
  },
  "language_info": {
   "codemirror_mode": {
    "name": "ipython",
    "version": 3
   },
   "file_extension": ".py",
   "mimetype": "text/x-python",
   "name": "python",
   "nbconvert_exporter": "python",
   "pygments_lexer": "ipython3",
   "version": "3.6.2"
  }
 },
 "nbformat": 4,
 "nbformat_minor": 1
}
