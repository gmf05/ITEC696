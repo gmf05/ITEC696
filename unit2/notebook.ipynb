{
 "cells": [
  {
   "cell_type": "markdown",
   "metadata": {},
   "source": [
    "# UNIT X: UNIT NAME#"
   ]
  },
  {
   "cell_type": "code",
   "execution_count": 6,
   "metadata": {
    "hide_input": true,
    "type": "DEMO"
   },
   "outputs": [
    {
     "data": {
      "text/markdown": [
       "# Table of Contents"
      ],
      "text/plain": [
       "<IPython.core.display.Markdown object>"
      ]
     },
     "metadata": {},
     "output_type": "display_data"
    },
    {
     "data": {
      "text/markdown": [
       "* [UNIT X: UNIT NAME](#UNIT-X:-UNIT-NAME)\n",
       " * [1. Section 1](#1.-Section-1)\n",
       " * [3. Section 3](#3.-Section-3)\n",
       " * [4. Section 4](#4.-Section-4)"
      ],
      "text/plain": [
       "<IPython.core.display.Markdown object>"
      ]
     },
     "metadata": {},
     "output_type": "display_data"
    }
   ],
   "source": [
    "from shared import display_unit_toc\n",
    "display_unit_toc('notebook.ipynb')"
   ]
  },
  {
   "cell_type": "markdown",
   "metadata": {
    "nbpresent": {
     "id": "ef60008f-126a-4873-bcb6-4d503c4a65f5"
    }
   },
   "source": [
    "## 1. Section 1#\n",
    "\n",
    "### Subsection 1#\n",
    "Subsection text. Subsection text with `inline code` and $\\LaTeX, ~~ y=mx+b$. This is more text.\n",
    "\n",
    "### Subsection 2#\n",
    "\n",
    "\n",
    "Python Code\n",
    "```python\n",
    "\n",
    "print('asdf')\n",
    "\n",
    "```\n",
    "Generic Code\n",
    "```\n",
    "print('asdf')\n",
    "```\n",
    "\n",
    "List\n",
    "* A\n",
    "* B\n",
    "\n",
    "LaTeX Code\n",
    "#### Formula 1#\n",
    "$$ y = mx + b $$\n",
    "\n"
   ]
  },
  {
   "cell_type": "code",
   "execution_count": 2,
   "metadata": {},
   "outputs": [],
   "source": [
    "# Preliminaries\n",
    "from unit1.code import *\n"
   ]
  },
  {
   "cell_type": "markdown",
   "metadata": {},
   "source": [
    "\n",
    "## 2. Section 2#\n",
    "\n",
    "### Subsection 1#\n",
    "\n",
    "### Subsection 2#\n"
   ]
  },
  {
   "cell_type": "markdown",
   "metadata": {},
   "source": [
    "## 3. Section 3#\n",
    "\n",
    "### Subsection 1#\n",
    "\n",
    "### Subsection 2#\n"
   ]
  },
  {
   "cell_type": "markdown",
   "metadata": {},
   "source": [
    "## 4. Section 4#\n",
    "\n",
    "### Subsection 1#\n",
    "\n",
    "### Subsection 2#\n"
   ]
  },
  {
   "cell_type": "markdown",
   "metadata": {},
   "source": [
    "\n",
    "## 5. Section 5#\n",
    "\n",
    "### Subsection?#\n",
    "\n",
    "\n",
    "Python Code\n",
    "```python\n",
    "\n",
    "print('asdf')\n",
    "\n",
    "```\n",
    "Generic Code\n",
    "```\n",
    "print('asdf')\n",
    "```\n",
    "\n",
    "List\n",
    "* A\n",
    "* B\n",
    "\n",
    "LaTeX Code\n",
    "$$ y = mx + b $$\n"
   ]
  },
  {
   "cell_type": "code",
   "execution_count": 3,
   "metadata": {
    "type": "GLOBAL"
   },
   "outputs": [],
   "source": [
    "# Global Python Code"
   ]
  },
  {
   "cell_type": "code",
   "execution_count": 4,
   "metadata": {
    "type": "DEMO"
   },
   "outputs": [
    {
     "name": "stdout",
     "output_type": "stream",
     "text": [
      "asdf\n"
     ]
    }
   ],
   "source": [
    "# Demo\n",
    "# Demo Python Code\n",
    "print('asdf')\n",
    "\n",
    "# Demo"
   ]
  },
  {
   "cell_type": "code",
   "execution_count": null,
   "metadata": {},
   "outputs": [],
   "source": []
  }
 ],
 "metadata": {
  "anaconda-cloud": {},
  "celltoolbar": "Edit Metadata",
  "kernelspec": {
   "display_name": "Python 3",
   "language": "python",
   "name": "python3"
  },
  "language_info": {
   "codemirror_mode": {
    "name": "ipython",
    "version": 3
   },
   "file_extension": ".py",
   "mimetype": "text/x-python",
   "name": "python",
   "nbconvert_exporter": "python",
   "pygments_lexer": "ipython3",
   "version": "3.6.2"
  },
  "nbpresent": {
   "slides": {},
   "themes": {}
  }
 },
 "nbformat": 4,
 "nbformat_minor": 1
}
