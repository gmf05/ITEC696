{
 "cells": [
  {
   "cell_type": "markdown",
   "metadata": {},
   "source": [
    "# Unit 2: Data Types#"
   ]
  },
  {
   "cell_type": "code",
   "execution_count": 1,
   "metadata": {
    "hide_input": true,
    "type": "DEMO"
   },
   "outputs": [
    {
     "data": {
      "text/markdown": [
       "# Table of Contents"
      ],
      "text/plain": [
       "<IPython.core.display.Markdown object>"
      ]
     },
     "metadata": {},
     "output_type": "display_data"
    },
    {
     "data": {
      "text/markdown": [
       "* [Unit 2: Data Types](#Unit-2:-Data-Types)\n",
       " * [Objects](#Objects)\n",
       " * [Integers and Floats](#Integers-and-Floats)\n",
       " * [Booleans](#Booleans)\n",
       " * [Errors](#Errors)\n",
       " * [Strings](#Strings)\n",
       " * [Bytes](#Bytes)\n",
       " * [Functions](#Functions)\n",
       " * [Dates](#Dates)\n",
       " * [Collections: Lists, Tuples, Sets](#Collections:-Lists,-Tuples,-Sets)\n",
       "  * [Tuples](#Tuples)\n",
       "  * [Sets](#Sets)\n",
       " * [Collections: Dictionaries](#Collections:-Dictionaries)\n",
       " * [Vectors and Matrices: Numpy](#Vectors-and-Matrices:-Numpy)\n",
       " * [Data Frames: Pandas](#Data-Frames:-Pandas)\n",
       " * [Saving Data: Pickle](#Saving-Data:-Pickle)"
      ],
      "text/plain": [
       "<IPython.core.display.Markdown object>"
      ]
     },
     "metadata": {},
     "output_type": "display_data"
    }
   ],
   "source": [
    "from shared import display_unit_toc\n",
    "display_unit_toc('notebook.ipynb')"
   ]
  },
  {
   "cell_type": "markdown",
   "metadata": {
    "nbpresent": {
     "id": "ef60008f-126a-4873-bcb6-4d503c4a65f5"
    }
   },
   "source": [
    "## Objects#\n",
    "\n",
    "Python is an object-oriented programming language: *Everything* is an object. And objects have **object types**, also called **classes**.\n",
    "\n",
    "We usually make objects by using the object name as a function and passing any object-related information as its arguments, also called a **class constructor**.\n",
    "\n",
    "For instance, we can make a new integer using the `int()` function as a class constructor:"
   ]
  },
  {
   "cell_type": "code",
   "execution_count": 2,
   "metadata": {},
   "outputs": [
    {
     "name": "stdout",
     "output_type": "stream",
     "text": [
      "3\n",
      "\n",
      "--\n",
      "\n",
      "0\n"
     ]
    }
   ],
   "source": [
    "x = int(3)\n",
    "print(x)\n",
    "\n",
    "print ('\\n--\\n')\n",
    "\n",
    "x = int()\n",
    "print(x)"
   ]
  },
  {
   "cell_type": "markdown",
   "metadata": {},
   "source": [
    "Note above we can use `print()` or the object name to see its contents. And we can use `type()` to see its type.\n",
    "\n",
    "Surprisingly, we can see that `int()` works as a class constructor even without an argument. By typing `?int` we can open the help documentation and see if this makes sense. In this case, the help says `int(x=0) -> integer`, which means that the function `int()` takes an input `x` which, if not provided, will default to `x=0`. And the `-> integer` means that the function returns an integer. So this blank constructor works because `int()` has a default for when input doesn't exist.\n",
    "\n",
    "Now, we don't construct all objects using a constructor. It's easier to write `x = 3`, for instance than `x = int(3)`. However, one case this comes in handy is when we want to force an object into a new class."
   ]
  },
  {
   "cell_type": "code",
   "execution_count": 3,
   "metadata": {},
   "outputs": [
    {
     "name": "stdout",
     "output_type": "stream",
     "text": [
      "<class 'float'> 3.14159\n",
      "\n",
      "--\n",
      "\n",
      "<class 'int'> 3\n"
     ]
    }
   ],
   "source": [
    "x = 3.14159\n",
    "print(type(x), x)\n",
    "\n",
    "print('\\n--\\n')\n",
    "\n",
    "y = int(x)\n",
    "print(type(y), y)"
   ]
  },
  {
   "cell_type": "markdown",
   "metadata": {},
   "source": [
    "The native object types we'll cover here include:\n",
    "\n",
    "* Integer `int`\n",
    "* Floating point number `float`\n",
    "* Boolean `bool`\n",
    "* Complex number `complex`\n",
    "* String `str`\n",
    "* Bytes `bytes`\n",
    "* List `list`\n",
    "* Set `set`\n",
    "* Tuple `tuple`\n",
    "* Dictionary `dict`\n",
    "* Function `builtin_function_or_method`\n",
    "\n",
    "By having a type (also called a class), an object inherits\n",
    "\n",
    "* **attributes**, i.e. attached variables\n",
    "* **methods**, i.e. attached functions\n",
    "\n",
    "We can access both using `TAB`-complete. For instance, we can assign a variable `x = 3.14159` then type `x.` and hit `TAB`. As a result, we see the `float` object has several attributes/methods:\n",
    "\n",
    "* `as_integer_ratio`\n",
    "* `conjugate`\n",
    "* `fromhex`\n",
    "* `hex`\n",
    "* `imag`\n",
    "* `is_integer`\n",
    "* `real`\n",
    "\n",
    "But which are which? Any attributes we can access like so"
   ]
  },
  {
   "cell_type": "code",
   "execution_count": 4,
   "metadata": {},
   "outputs": [
    {
     "data": {
      "text/plain": [
       "3.14159"
      ]
     },
     "execution_count": 4,
     "metadata": {},
     "output_type": "execute_result"
    }
   ],
   "source": [
    "x.real"
   ]
  },
  {
   "cell_type": "markdown",
   "metadata": {},
   "source": [
    "For ones that aren't attributes, Python will tell us the object we've chosen is a function"
   ]
  },
  {
   "cell_type": "code",
   "execution_count": 5,
   "metadata": {},
   "outputs": [
    {
     "data": {
      "text/plain": [
       "<function float.is_integer>"
      ]
     },
     "execution_count": 5,
     "metadata": {},
     "output_type": "execute_result"
    }
   ],
   "source": [
    "x.is_integer"
   ]
  },
  {
   "cell_type": "markdown",
   "metadata": {},
   "source": [
    "Alternatively, we can use `type()`:"
   ]
  },
  {
   "cell_type": "code",
   "execution_count": 6,
   "metadata": {},
   "outputs": [
    {
     "name": "stdout",
     "output_type": "stream",
     "text": [
      "<class 'float'>\n",
      "<class 'builtin_function_or_method'>\n"
     ]
    }
   ],
   "source": [
    "print(type(x.real))\n",
    "print(type(x.is_integer))"
   ]
  },
  {
   "cell_type": "markdown",
   "metadata": {},
   "source": [
    "\n",
    "Another way to explore the structure of an object is using the `dir()` function:"
   ]
  },
  {
   "cell_type": "code",
   "execution_count": 7,
   "metadata": {},
   "outputs": [
    {
     "data": {
      "text/plain": [
       "['__abs__',\n",
       " '__add__',\n",
       " '__bool__',\n",
       " '__class__',\n",
       " '__delattr__',\n",
       " '__dir__',\n",
       " '__divmod__',\n",
       " '__doc__',\n",
       " '__eq__',\n",
       " '__float__',\n",
       " '__floordiv__',\n",
       " '__format__',\n",
       " '__ge__',\n",
       " '__getattribute__',\n",
       " '__getformat__',\n",
       " '__getnewargs__',\n",
       " '__gt__',\n",
       " '__hash__',\n",
       " '__init__',\n",
       " '__init_subclass__',\n",
       " '__int__',\n",
       " '__le__',\n",
       " '__lt__',\n",
       " '__mod__',\n",
       " '__mul__',\n",
       " '__ne__',\n",
       " '__neg__',\n",
       " '__new__',\n",
       " '__pos__',\n",
       " '__pow__',\n",
       " '__radd__',\n",
       " '__rdivmod__',\n",
       " '__reduce__',\n",
       " '__reduce_ex__',\n",
       " '__repr__',\n",
       " '__rfloordiv__',\n",
       " '__rmod__',\n",
       " '__rmul__',\n",
       " '__round__',\n",
       " '__rpow__',\n",
       " '__rsub__',\n",
       " '__rtruediv__',\n",
       " '__setattr__',\n",
       " '__setformat__',\n",
       " '__sizeof__',\n",
       " '__str__',\n",
       " '__sub__',\n",
       " '__subclasshook__',\n",
       " '__truediv__',\n",
       " '__trunc__',\n",
       " 'as_integer_ratio',\n",
       " 'conjugate',\n",
       " 'fromhex',\n",
       " 'hex',\n",
       " 'imag',\n",
       " 'is_integer',\n",
       " 'real']"
      ]
     },
     "execution_count": 7,
     "metadata": {},
     "output_type": "execute_result"
    }
   ],
   "source": [
    "dir(x)"
   ]
  },
  {
   "cell_type": "markdown",
   "metadata": {},
   "source": [
    "Notice that, in addition to the ones we saw above, the `float` object has several more attributes and methods beginning with and ending `_`. These tend to be implementation-level properties and not part of the main functionality of the class.\n",
    "\n",
    "For further detail on the implementation-level attributes see [Python 3.6 documentation](https://docs.python.org/3.6/reference/datamodel.html#objects-values-and-types).\n"
   ]
  },
  {
   "cell_type": "markdown",
   "metadata": {},
   "source": [
    "## Integers and Floats#\n",
    "\n",
    "The two numeric data types in Python are Integer and Float (or floating point precision number). Integers are bounded between -X to X and have no decimal component, while floats can have a decimal component and accept a wider range from -X to X.\n",
    "\n",
    "Python tries to assign integers when possible. For addition, subtraction, and multiplication this works fine, since the result is always an integer, too. However, in Python 2 can occasionally cause unintended behavior when we're dividing numbers. In these cases we often want to cast one of the numbers to `float` so that the result will also be a floating point number. We can either use the `float()` function or add a decimal point.\n",
    "\n",
    "This behavior has changed in Python 3, which returns a division result as type `float` regardless of the inputs."
   ]
  },
  {
   "cell_type": "code",
   "execution_count": 8,
   "metadata": {},
   "outputs": [
    {
     "data": {
      "text/plain": [
       "33.333333333333336"
      ]
     },
     "execution_count": 8,
     "metadata": {},
     "output_type": "execute_result"
    }
   ],
   "source": [
    "100 / 3"
   ]
  },
  {
   "cell_type": "code",
   "execution_count": 9,
   "metadata": {},
   "outputs": [
    {
     "data": {
      "text/plain": [
       "33.333333333333336"
      ]
     },
     "execution_count": 9,
     "metadata": {},
     "output_type": "execute_result"
    }
   ],
   "source": [
    "100 / float(3)"
   ]
  },
  {
   "cell_type": "code",
   "execution_count": 10,
   "metadata": {},
   "outputs": [
    {
     "data": {
      "text/plain": [
       "33.333333333333336"
      ]
     },
     "execution_count": 10,
     "metadata": {},
     "output_type": "execute_result"
    }
   ],
   "source": [
    "100. / 3"
   ]
  },
  {
   "cell_type": "code",
   "execution_count": 11,
   "metadata": {},
   "outputs": [
    {
     "name": "stdout",
     "output_type": "stream",
     "text": [
      "<class 'int'> <class 'float'>\n"
     ]
    }
   ],
   "source": [
    "# Compare these types:\n",
    "print(type(100), type(100.))"
   ]
  },
  {
   "cell_type": "markdown",
   "metadata": {},
   "source": [
    "## Booleans#\n",
    "\n",
    "A **boolean** is a binary logical data type, i.e. assumes the values True or False. The results of logical comparisons like \"is greather than\" (`>`), \"is equal\" (`==`), \"is not equal\" (`!=`) are returned as booleans. They can also be combined with the two operators `and`, `or` and negated with the operator `not`. Also, parentheses `( )` can be used to group boolean statements together, which can be important for expressing more complex conditions.\n",
    "\n",
    "\n"
   ]
  },
  {
   "cell_type": "code",
   "execution_count": 12,
   "metadata": {},
   "outputs": [
    {
     "data": {
      "text/plain": [
       "False"
      ]
     },
     "execution_count": 12,
     "metadata": {},
     "output_type": "execute_result"
    }
   ],
   "source": [
    "-10 < -20"
   ]
  },
  {
   "cell_type": "code",
   "execution_count": 13,
   "metadata": {},
   "outputs": [
    {
     "data": {
      "text/plain": [
       "True"
      ]
     },
     "execution_count": 13,
     "metadata": {},
     "output_type": "execute_result"
    }
   ],
   "source": [
    "2 + 3 == 5"
   ]
  },
  {
   "cell_type": "code",
   "execution_count": 14,
   "metadata": {},
   "outputs": [
    {
     "data": {
      "text/plain": [
       "True"
      ]
     },
     "execution_count": 14,
     "metadata": {},
     "output_type": "execute_result"
    }
   ],
   "source": [
    "2 + 3 != 5.1"
   ]
  },
  {
   "cell_type": "code",
   "execution_count": 15,
   "metadata": {},
   "outputs": [
    {
     "data": {
      "text/plain": [
       "True"
      ]
     },
     "execution_count": 15,
     "metadata": {},
     "output_type": "execute_result"
    }
   ],
   "source": [
    "type(2) == int"
   ]
  },
  {
   "cell_type": "code",
   "execution_count": 16,
   "metadata": {},
   "outputs": [
    {
     "data": {
      "text/plain": [
       "False"
      ]
     },
     "execution_count": 16,
     "metadata": {},
     "output_type": "execute_result"
    }
   ],
   "source": [
    "x = 3.14159\n",
    "not (int(x) < 3 or int(x) > 2)"
   ]
  },
  {
   "cell_type": "code",
   "execution_count": 17,
   "metadata": {},
   "outputs": [
    {
     "data": {
      "text/plain": [
       "True"
      ]
     },
     "execution_count": 17,
     "metadata": {},
     "output_type": "execute_result"
    }
   ],
   "source": [
    "not int(x) < 3 or int(x) > 2"
   ]
  },
  {
   "cell_type": "markdown",
   "metadata": {},
   "source": [
    "Python also will treat the boooleans `True` and `False` like the integers `1` and `0` when the context calls for it. For instance, if we add two booleans it will operate on them like integers. Similarly, integers will be treated like booleans if used in clauses with `and`, `or`, `not`. The integer `0` is `False`, while all other integers are `True`."
   ]
  },
  {
   "cell_type": "code",
   "execution_count": 18,
   "metadata": {},
   "outputs": [
    {
     "data": {
      "text/plain": [
       "-1"
      ]
     },
     "execution_count": 18,
     "metadata": {},
     "output_type": "execute_result"
    }
   ],
   "source": [
    "False - True"
   ]
  },
  {
   "cell_type": "code",
   "execution_count": 19,
   "metadata": {},
   "outputs": [
    {
     "name": "stdout",
     "output_type": "stream",
     "text": [
      "-100\n",
      "True\n"
     ]
    }
   ],
   "source": [
    "print(3 * 0 or -100)\n",
    "print(bool(3 * 0 or -100))"
   ]
  },
  {
   "cell_type": "markdown",
   "metadata": {},
   "source": [
    "Booleans are useful for `if` / `else` constructions, which we'll explore in Unit 3."
   ]
  },
  {
   "cell_type": "code",
   "execution_count": 20,
   "metadata": {},
   "outputs": [
    {
     "name": "stdout",
     "output_type": "stream",
     "text": [
      "2018-09-08 05:56:06.649811 \n",
      "\n",
      "Fall\n"
     ]
    }
   ],
   "source": [
    "from datetime import datetime\n",
    "today = datetime.now()\n",
    "print(today, '\\n')\n",
    "\n",
    "if today.month >= 3 and today.month < 6:\n",
    "    print('Spring')\n",
    "elif today.month >= 6 and today.month < 9:\n",
    "    print('Summer')\n",
    "elif today.month >= 9 and today.month < 12:\n",
    "    print('Fall')\n",
    "else:\n",
    "    print('Winter')\n",
    "    "
   ]
  },
  {
   "cell_type": "markdown",
   "metadata": {},
   "source": [
    "## Errors#\n",
    "\n",
    "Like all other data, Python errors are objects too, with their type specifying the type of error. Let's try a few error-throwing operations.\n",
    "\n",
    "First, let's see what happens if we write a clause that doesn't make logical sense. Try running some of these examples:"
   ]
  },
  {
   "cell_type": "code",
   "execution_count": 21,
   "metadata": {},
   "outputs": [],
   "source": [
    "# True not and False\n",
    "# True not False\n",
    "# 3 2"
   ]
  },
  {
   "cell_type": "markdown",
   "metadata": {},
   "source": [
    "For all three cases we've written operations that aren't clearly defined. In other words, Python doesn't know how to interpret the syntax and throws a `SyntaxError`. The line above the error shows the offending line and often (though not always) the part of the line that's directly responsible.\n",
    "\n",
    "What about other error types?"
   ]
  },
  {
   "cell_type": "code",
   "execution_count": 22,
   "metadata": {},
   "outputs": [],
   "source": [
    "import math\n",
    "# math.sqrt(-4)"
   ]
  },
  {
   "cell_type": "markdown",
   "metadata": {},
   "source": [
    "Recall the (real) square root isn't defined for negative numbers. Thus the `sqrt` function receives an unexpected value and throws a corresponding `ValueError`. \n",
    "\n",
    "One more example:"
   ]
  },
  {
   "cell_type": "code",
   "execution_count": 23,
   "metadata": {},
   "outputs": [],
   "source": [
    "x = 3.14\n",
    "#  print(y)"
   ]
  },
  {
   "cell_type": "markdown",
   "metadata": {},
   "source": [
    "Even though we have two errors, Python throws the first error it encounters. As the interpreter is scanning our code, it gets to the line `print(y)` and finds an unexpected space. This is because Python is *whitespace sensitive*: It uses the indentation level of code as information, as we saw with `if/else` blocks. We'll discuss this more in the next unit, but for now you can try correcting the indentation and see how it changes the error."
   ]
  },
  {
   "cell_type": "markdown",
   "metadata": {},
   "source": [
    "## Strings#\n",
    "\n",
    "To this point we have dealt exclusively with quantitative (numeric) data. Of course, there are also qualitative (non-numeric) data. These tend to be expressed as **strings**, or text-based variables.\n",
    "\n",
    "A string variable in Python is enclosed by a pair of quotes. Either single or double quotes are fine, so long as we are consistent.\n"
   ]
  },
  {
   "cell_type": "code",
   "execution_count": 24,
   "metadata": {},
   "outputs": [
    {
     "name": "stdout",
     "output_type": "stream",
     "text": [
      "Raptors, Celtics, 76ers, Cavaliers, Pacers, Heat, Bucks, Wizards\n",
      "Rockets, Warriors, Trailblazers, Jazz, Thunder, Pelicans, Spurs, Timberwolves\n"
     ]
    }
   ],
   "source": [
    "eastern_playoff_teams = 'Raptors, Celtics, 76ers, Cavaliers, Pacers, Heat, Bucks, Wizards'\n",
    "print(eastern_playoff_teams)\n",
    "\n",
    "western_playoff_teams = \"Rockets, Warriors, Trailblazers, Jazz, Thunder, Pelicans, Spurs, Timberwolves\"\n",
    "print(western_playoff_teams)"
   ]
  },
  {
   "cell_type": "markdown",
   "metadata": {},
   "source": [
    "Strings can be concatenated, i.e. combined, with a `+` sign. \n"
   ]
  },
  {
   "cell_type": "code",
   "execution_count": 25,
   "metadata": {},
   "outputs": [
    {
     "name": "stdout",
     "output_type": "stream",
     "text": [
      "Raptors, Celtics, 76ers, Cavaliers, Pacers, Heat, Bucks, Wizards, Rockets, Warriors, Trailblazers, Jazz, Thunder, Pelicans, Spurs, Timberwolves\n"
     ]
    }
   ],
   "source": [
    "all_playoff_teams = eastern_playoff_teams + ', ' + western_playoff_teams\n",
    "print(all_playoff_teams)"
   ]
  },
  {
   "cell_type": "markdown",
   "metadata": {},
   "source": [
    "Strings have several useful built-in functions for accessing and changing their data. For instance, `replace()` takes two arguments and attempts to replace any matches of the first argument with the second argument. If there are no matches, it doesn't replace anything.\n",
    "\n",
    "This can be a handy way to delete text from a string by replacing the text we want to delete with a blank string ``"
   ]
  },
  {
   "cell_type": "code",
   "execution_count": 26,
   "metadata": {},
   "outputs": [
    {
     "name": "stdout",
     "output_type": "stream",
     "text": [
      "Rockets, Warriors, Trailblazers, Jazz, Thunder, Pelicans, Spurs, Timberwolves\n",
      "False\n",
      "\n",
      "--\n",
      "\n",
      "Rockets, Warriors, Trailblazers, Jazz, Thunder, Pelicans, Spurs, Nuggets\n",
      "True\n"
     ]
    }
   ],
   "source": [
    "western_playoff_teams.replace('Timberwolves', 'Nuggets')\n",
    "print(western_playoff_teams)\n",
    "print(western_playoff_teams.endswith('Nuggets'))\n",
    "\n",
    "print('\\n--\\n')\n",
    "\n",
    "western_playoff_teams = western_playoff_teams.replace('Timberwolves', 'Nuggets')\n",
    "print(western_playoff_teams)\n",
    "print(western_playoff_teams.endswith('Nuggets'))\n"
   ]
  },
  {
   "cell_type": "markdown",
   "metadata": {},
   "source": [
    "The function `find()` can test whether the string variable calling `find()` contains a given sub-string. It returns the location of the first match, if one exists, or else `-1`."
   ]
  },
  {
   "cell_type": "code",
   "execution_count": 27,
   "metadata": {},
   "outputs": [
    {
     "name": "stdout",
     "output_type": "stream",
     "text": [
      "18\n",
      "-1\n"
     ]
    }
   ],
   "source": [
    "print(eastern_playoff_teams.find('76ers'))\n",
    "print(eastern_playoff_teams.find('Hawks'))"
   ]
  },
  {
   "cell_type": "markdown",
   "metadata": {},
   "source": [
    "Special cases of `find()` are the functions `startswith()` and `endswith()`.\n",
    "\n",
    "Other functinos like `upper()`, `lower()`, and `capitalize()` can be used to force strings to match a given format.\n",
    "\n",
    "Another key string function is `split()`. Split separates a string into multiple strings, breaking each time it matches the argument string. For instance, by splitting on a comma and space `, ` we can separate our long strings above into two lists of smaller strings:"
   ]
  },
  {
   "cell_type": "code",
   "execution_count": 28,
   "metadata": {},
   "outputs": [
    {
     "name": "stdout",
     "output_type": "stream",
     "text": [
      "['Raptors', 'Celtics', '76ers', 'Cavaliers', 'Pacers', 'Heat', 'Bucks', 'Wizards']\n",
      "['Rockets', 'Warriors', 'Trailblazers', 'Jazz', 'Thunder', 'Pelicans', 'Spurs', 'Nuggets']\n"
     ]
    }
   ],
   "source": [
    "print(eastern_playoff_teams.split(', '))\n",
    "print(western_playoff_teams.split(', '))"
   ]
  },
  {
   "cell_type": "markdown",
   "metadata": {},
   "source": [
    "Note our single strings (one pair of quotes each) are now broken into multiple strings (eight pairs of quotes each). The commas are no longer part of the string and instead they now separate the multiple strings we received after splitting. The most common delimiters we split on are commas `,`, spaces ` `, tabs `\\t`, and new lines `\\n`.\n",
    "\n",
    "One question to ask yourself: What would have happened if we had omitted the space above? If you're not entirely sure, try running this file as `.ipynb` and making the change yourself.\n",
    "\n",
    "\n",
    "#### String formatting\n",
    "\n",
    "Strings have a method `format()` that allows us to build strings with placeholders, which allow flexible filling of variables into strings. The placeholder(s) is specified by braces `{ }` which either a) are empty or b) have a variable name. Our input to `format()` is the variable we're filling in.\n"
   ]
  },
  {
   "cell_type": "code",
   "execution_count": 29,
   "metadata": {},
   "outputs": [
    {
     "name": "stdout",
     "output_type": "stream",
     "text": [
      "Ths Rockets play at an arena in Houston\n",
      "Ths Warriors play at an arena in Golden State\n",
      "Ths Hawks play at an arena in Atlanta\n",
      "Ths Wizars play at an arena in Washington\n"
     ]
    }
   ],
   "source": [
    "team_cities = {'Rockets': 'Houston', 'Warriors': 'Golden State', 'Hawks': 'Atlanta', 'Wizars': 'Washington'}\n",
    "\n",
    "for team, city in team_cities.items():\n",
    "    print('Ths {team} play at an arena in {city}'.format(team=team, city=city))\n",
    "#     print('Ths {} play at an arena in {}'.format(team, city)) # same"
   ]
  },
  {
   "cell_type": "markdown",
   "metadata": {},
   "source": [
    "\n",
    "#### Regular expressions\n",
    "\n",
    "Another common tool for manipulating strings is the package `re`. The name `re` is short for \"regular expressions\". which are a powerful syntax for matching and replacing strings. Regular expressions can handle exact string matches as well as more general concepts like \"find all digits within the string\"."
   ]
  },
  {
   "cell_type": "code",
   "execution_count": 30,
   "metadata": {},
   "outputs": [
    {
     "name": "stdout",
     "output_type": "stream",
     "text": [
      "76\n"
     ]
    }
   ],
   "source": [
    "import re\n",
    "\n",
    "# [\\d] = digit, + continues the match as long as it keeps matching digits\n",
    "x = re.search('[\\d]+', eastern_playoff_teams)\n",
    "\n",
    "print(x.group())"
   ]
  },
  {
   "cell_type": "markdown",
   "metadata": {},
   "source": [
    "We'll explore regular expressions and string matching more in Unit 2 Lab."
   ]
  },
  {
   "cell_type": "markdown",
   "metadata": {},
   "source": [
    "## Bytes#\n",
    "\n",
    "Bytes are another encoding for strings."
   ]
  },
  {
   "cell_type": "code",
   "execution_count": 31,
   "metadata": {},
   "outputs": [
    {
     "name": "stdout",
     "output_type": "stream",
     "text": [
      "<class 'str'>\n",
      "James Naismith\n",
      "\n",
      "--\n",
      "\n",
      "<class 'bytes'>\n",
      "b'James Naismith'\n"
     ]
    }
   ],
   "source": [
    "name = u'James Naismith'\n",
    "print(type(name))\n",
    "print(name)\n",
    "\n",
    "print('\\n--\\n')\n",
    "\n",
    "name_bytes = b'James Naismith'\n",
    "print(type(name_bytes))\n",
    "print(name_bytes)\n"
   ]
  },
  {
   "cell_type": "markdown",
   "metadata": {},
   "source": [
    "## Functions#\n",
    "\n",
    "We can start a function definition with the letters `def` followed by the function name. In parentheses and after the function name, we can specify which arguments the function receives. A line, like the function below, only has one input. However, a function like `str.replace()` takes multiple inputs. We'll explore functions more in Unit 3."
   ]
  },
  {
   "cell_type": "code",
   "execution_count": 32,
   "metadata": {},
   "outputs": [
    {
     "name": "stdout",
     "output_type": "stream",
     "text": [
      "8\n"
     ]
    },
    {
     "data": {
      "text/plain": [
       "function"
      ]
     },
     "execution_count": 32,
     "metadata": {},
     "output_type": "execute_result"
    }
   ],
   "source": [
    "def my_line(x):\n",
    "    return 3*x + 2\n",
    "\n",
    "x = 2\n",
    "y = my_line(x)\n",
    "print(y)\n",
    "\n",
    "type(my_line)"
   ]
  },
  {
   "cell_type": "markdown",
   "metadata": {},
   "source": [
    "## Dates#\n",
    "\n",
    "Dates are another common data type, especially when we're dealing with time series. While we could represent dates as multiple integers (i.e. one variable for `year`, another for `month`, etc.), this ignores an important feature of dates: The arithmetic doesn't match typical integer arithmetic: For instance, if `day` is `31` then `day+1` does not equal `32`.\n",
    "\n",
    "Thankfully, Python's `datetime` package implements a class for dates that can handle date arithmetic and text-formatting. Let's import the package and construct a date variable `leap_day` using the class constructor `datetime.date()`:"
   ]
  },
  {
   "cell_type": "code",
   "execution_count": 33,
   "metadata": {},
   "outputs": [
    {
     "name": "stdout",
     "output_type": "stream",
     "text": [
      "2020 2 29 5\n"
     ]
    }
   ],
   "source": [
    "import datetime\n",
    "leap_day = datetime.date(2020, 2, 29)\n",
    "\n",
    "print(leap_day.year, leap_day.month, leap_day.day, leap_day.weekday())\n"
   ]
  },
  {
   "cell_type": "markdown",
   "metadata": {},
   "source": [
    "Our variable `leap_day` has attributes `year`, `month`, and `day` among others. It also has a method `weekday()` that returns the day of the week for the date. Python counts beginning at `0`, as we'll see with lists below. So starting with `Monday = 0` we see that `leap_day` falls on a Saturday.\n",
    "\n",
    "Another powerful feature of `datetime` is its class `datetime.timedelta`. Adding `date + timedelta` will produce a new date. For instance we can shift five weeks ahead from `leap_day` by running"
   ]
  },
  {
   "cell_type": "code",
   "execution_count": 34,
   "metadata": {},
   "outputs": [
    {
     "data": {
      "text/plain": [
       "datetime.date(2020, 4, 4)"
      ]
     },
     "execution_count": 34,
     "metadata": {},
     "output_type": "execute_result"
    }
   ],
   "source": [
    "leap_day + datetime.timedelta(weeks=5)"
   ]
  },
  {
   "cell_type": "markdown",
   "metadata": {},
   "source": [
    "Note you can replace the argument `weeks` with `days`, `hours`, `minutes`, etc."
   ]
  },
  {
   "cell_type": "markdown",
   "metadata": {},
   "source": [
    "## Collections: Lists, Tuples, Sets#\n",
    "\n",
    "### Lists#\n",
    "\n",
    "Arguably the most frequently used Python object is the list. A **list** is a collection of objects. These objects can have mixed types and can include duplicates.\n",
    "\n",
    "The typical way to declare a list is using square brackets `[ ]` to signify the list and commas `,` to separate each object.\n"
   ]
  },
  {
   "cell_type": "code",
   "execution_count": 35,
   "metadata": {},
   "outputs": [
    {
     "name": "stdout",
     "output_type": "stream",
     "text": [
      "['Raptors', 'Celtics', '76ers', 'Cavaliers', 'Pacers', 'Heat', 'Bucks', 'Wizards']\n",
      "<class 'list'>\n"
     ]
    }
   ],
   "source": [
    "eastern_playoff_list = ['Raptors', 'Celtics', '76ers', 'Cavaliers', 'Pacers', 'Heat', 'Bucks', 'Wizards']\n",
    "print(eastern_playoff_list)\n",
    "print(type(eastern_playoff_list))"
   ]
  },
  {
   "cell_type": "markdown",
   "metadata": {},
   "source": [
    "To compute the length of a list we use `len()`:"
   ]
  },
  {
   "cell_type": "code",
   "execution_count": 36,
   "metadata": {},
   "outputs": [
    {
     "data": {
      "text/plain": [
       "8"
      ]
     },
     "execution_count": 36,
     "metadata": {},
     "output_type": "execute_result"
    }
   ],
   "source": [
    "len(eastern_playoff_list)"
   ]
  },
  {
   "cell_type": "markdown",
   "metadata": {},
   "source": [
    "We can access elements of a list with square brackets `[ ]`, similar to calling a function. Note that, unlike R or Matlab, Python starts counting at `0`. So the eight teams above are indexed `0-7`:\n"
   ]
  },
  {
   "cell_type": "code",
   "execution_count": 37,
   "metadata": {},
   "outputs": [
    {
     "name": "stdout",
     "output_type": "stream",
     "text": [
      "Raptors\n",
      "76ers\n",
      "Wizards\n"
     ]
    }
   ],
   "source": [
    "print(eastern_playoff_list[0])\n",
    "print(eastern_playoff_list[2])\n",
    "print(eastern_playoff_list[7])\n",
    "# print(eastern_playoff_list[8])  # try this in Jupyter Notebook or Spyder"
   ]
  },
  {
   "cell_type": "markdown",
   "metadata": {},
   "source": [
    "Additionally, Python allows us to do reverse indexing, beginning at the end of the list. We access items in reverse by using negative numbers, starting with `-1`:"
   ]
  },
  {
   "cell_type": "code",
   "execution_count": 38,
   "metadata": {},
   "outputs": [
    {
     "name": "stdout",
     "output_type": "stream",
     "text": [
      "Wizards\n",
      "Bucks\n",
      "Raptors\n"
     ]
    }
   ],
   "source": [
    "print(eastern_playoff_list[-1])\n",
    "print(eastern_playoff_list[-2])\n",
    "print(eastern_playoff_list[-8])"
   ]
  },
  {
   "cell_type": "markdown",
   "metadata": {},
   "source": [
    "Similar to strings, we can combine lists in order by using the `+` operator:"
   ]
  },
  {
   "cell_type": "code",
   "execution_count": 39,
   "metadata": {},
   "outputs": [
    {
     "name": "stdout",
     "output_type": "stream",
     "text": [
      "['Raptors', 'Celtics', '76ers', 'Cavaliers', 'Pacers', 'Heat', 'Bucks', 'Wizards', 'Rockets', 'Warriors', 'Trailblazers', 'Jazz', 'Thunder', 'Pelicans', 'Spurs', 'Nuggets']\n"
     ]
    }
   ],
   "source": [
    "western_playoff_list = western_playoff_teams.split(', ')\n",
    "all_playoff_list = eastern_playoff_list + western_playoff_list\n",
    "print(all_playoff_list)"
   ]
  },
  {
   "cell_type": "markdown",
   "metadata": {},
   "source": [
    "There are other ways to change the contents of a list, too:\n",
    "* `append(object)` adds `object` to the end of the list\n",
    "* `insert(position, object)` inserts `object` at index `position`\n",
    "* `remove(object)` deletes the first occurrence of `object` in the list\n"
   ]
  },
  {
   "cell_type": "code",
   "execution_count": 40,
   "metadata": {},
   "outputs": [
    {
     "data": {
      "text/plain": [
       "['Raptors',\n",
       " 'Hawks',\n",
       " 'Celtics',\n",
       " '76ers',\n",
       " 'Cavaliers',\n",
       " 'Pacers',\n",
       " 'Heat',\n",
       " 'Bucks',\n",
       " 'Wizards',\n",
       " 'Rockets',\n",
       " 'Warriors',\n",
       " 'Trailblazers',\n",
       " 'Jazz',\n",
       " 'Thunder',\n",
       " 'Pelicans',\n",
       " 'Spurs',\n",
       " 'Nuggets',\n",
       " 'Hawks']"
      ]
     },
     "execution_count": 40,
     "metadata": {},
     "output_type": "execute_result"
    }
   ],
   "source": [
    "all_playoff_list.append('Hawks')\n",
    "all_playoff_list.insert(1, 'Hawks')\n",
    "all_playoff_list"
   ]
  },
  {
   "cell_type": "code",
   "execution_count": 41,
   "metadata": {},
   "outputs": [
    {
     "data": {
      "text/plain": [
       "['Raptors',\n",
       " 'Celtics',\n",
       " '76ers',\n",
       " 'Cavaliers',\n",
       " 'Pacers',\n",
       " 'Heat',\n",
       " 'Bucks',\n",
       " 'Wizards',\n",
       " 'Rockets',\n",
       " 'Warriors',\n",
       " 'Trailblazers',\n",
       " 'Jazz',\n",
       " 'Thunder',\n",
       " 'Pelicans',\n",
       " 'Spurs',\n",
       " 'Nuggets',\n",
       " 'Hawks']"
      ]
     },
     "execution_count": 41,
     "metadata": {},
     "output_type": "execute_result"
    }
   ],
   "source": [
    "# Try running this cell multiple times\n",
    "all_playoff_list.remove('Hawks')\n",
    "all_playoff_list"
   ]
  },
  {
   "cell_type": "markdown",
   "metadata": {},
   "source": [
    "### Tuples#\n",
    "\n",
    "Tuples are similar to lists. Instead of declaring them with square brackets `[ ]`, though, we use parentheses `( )` or no boundary markings at all.\n"
   ]
  },
  {
   "cell_type": "code",
   "execution_count": 42,
   "metadata": {},
   "outputs": [
    {
     "name": "stdout",
     "output_type": "stream",
     "text": [
      "<class 'tuple'>\n",
      "<class 'tuple'>\n"
     ]
    }
   ],
   "source": [
    "eastern_playoff_tuple = ('Raptors', 'Celtics', '76ers', 'Cavaliers', 'Pacers', 'Heat', 'Bucks', 'Wizards')\n",
    "\n",
    "print(type(eastern_playoff_tuple))\n",
    "\n",
    "western_playoff_tuple = 'Rockets', 'Warriors', 'Trailblazers', 'Jazz', 'Thunder', 'Pelicans', 'Spurs', 'Timberwolves'\n",
    "\n",
    "print(type(western_playoff_tuple))"
   ]
  },
  {
   "cell_type": "markdown",
   "metadata": {},
   "source": [
    "Like lists, we can combine tuples with `+`\n"
   ]
  },
  {
   "cell_type": "code",
   "execution_count": 43,
   "metadata": {},
   "outputs": [
    {
     "name": "stdout",
     "output_type": "stream",
     "text": [
      "('Raptors', 'Celtics', '76ers', 'Cavaliers', 'Pacers', 'Heat', 'Bucks', 'Wizards', 'Rockets', 'Warriors', 'Trailblazers', 'Jazz', 'Thunder', 'Pelicans', 'Spurs', 'Timberwolves')\n"
     ]
    }
   ],
   "source": [
    "all_playoff_tuple = eastern_playoff_tuple + western_playoff_tuple\n",
    "print(all_playoff_tuple)"
   ]
  },
  {
   "cell_type": "markdown",
   "metadata": {},
   "source": [
    "We can even convert smoothly between tuples and lists using the class constructor functions. Notice, however, that tuples are more limited in terms of their attached methods. Their reduced functionality means they take up less memory:"
   ]
  },
  {
   "cell_type": "code",
   "execution_count": 44,
   "metadata": {},
   "outputs": [
    {
     "name": "stdout",
     "output_type": "stream",
     "text": [
      "152\n",
      "232\n"
     ]
    }
   ],
   "source": [
    "print(all_playoff_tuple.__sizeof__())\n",
    "\n",
    "list_from_tuple = list(all_playoff_tuple)\n",
    "print(list_from_tuple.__sizeof__())"
   ]
  },
  {
   "cell_type": "markdown",
   "metadata": {},
   "source": [
    "### Sets#\n",
    "\n",
    "Like lists and tuples, sets are collections of objects. To declare a set we use braces `{ }` for the set boundaries and separate objects with commas.\n",
    "\n",
    "\n",
    "However, sets have several unique properties. First of all, sets do *not* accept duplicates. Second, we don't access sets' contents directly like we do with lists or tuples.\n"
   ]
  },
  {
   "cell_type": "code",
   "execution_count": 45,
   "metadata": {},
   "outputs": [
    {
     "name": "stdout",
     "output_type": "stream",
     "text": [
      "{'Pelicans', 'Rockets', 'Magic', 'Bulls', 'Warriors'}\n",
      "<class 'set'>\n"
     ]
    }
   ],
   "source": [
    "\n",
    "upcoming_opponents = {'Warriors', 'Rockets', 'Pelicans', 'Rockets', 'Bulls', 'Warriors', 'Magic'}\n",
    "print(upcoming_opponents)\n",
    "\n",
    "print(type(upcoming_opponents))\n"
   ]
  },
  {
   "cell_type": "markdown",
   "metadata": {},
   "source": [
    "Because they don't accept duplicates, casting to a set is a useful way of removing duplicates. For instance, we can cast from `list -> set -> list` and get unique values then reacquiring a list's functionality:"
   ]
  },
  {
   "cell_type": "code",
   "execution_count": 46,
   "metadata": {},
   "outputs": [
    {
     "name": "stdout",
     "output_type": "stream",
     "text": [
      "['Pelicans', 'Rockets', 'Magic', 'Bulls', 'Warriors']\n"
     ]
    }
   ],
   "source": [
    "upcoming_games = ['Warriors', 'Rockets', 'Pelicans', 'Rockets', 'Bulls', 'Warriors', 'Magic']\n",
    "\n",
    "upcoming_opponents = list(set(upcoming_games))\n",
    "print(upcoming_opponents)\n"
   ]
  },
  {
   "cell_type": "markdown",
   "metadata": {},
   "source": [
    "Sets come equipped with the common set operations:\n",
    "\n",
    "* `union()` combines two sets\n",
    "* `intersection()` keeps only the objects both sets have in common\n",
    "* `difference()` removes the objects both sets have in common (Note order matters: $A-B \\neq B-A$)\n",
    "* `add()` inserts an object into the set\n",
    "* `remove()` deletes an object"
   ]
  },
  {
   "cell_type": "code",
   "execution_count": 47,
   "metadata": {},
   "outputs": [
    {
     "name": "stdout",
     "output_type": "stream",
     "text": [
      "{'Kyrie Irving', 'Jaylen Brown', 'Jayson Tatum', 'Gordon Hayward', 'Al Horford', 'Joel Embiid', 'JJ Redick', 'Ben Simmons', 'Robert Covington', 'Markelle Fultz'}\n",
      "{'Jaylen Brown', 'Gordon Hayward', 'Robert Covington', 'Al Horford', 'Joel Embiid', 'JJ Redick', 'Ben Simmons', 'Kyrie Irving'}\n",
      "{'Joel Embiid', 'JJ Redick', 'Robert Covington', 'Ben Simmons'}\n",
      "{'TJ McConnell', 'Joel Embiid', 'JJ Redick', 'Ben Simmons', 'Robert Covington', 'Markelle Fultz'}\n",
      "{'Joel Embiid', 'JJ Redick', 'Ben Simmons', 'Robert Covington', 'Markelle Fultz'}\n"
     ]
    }
   ],
   "source": [
    "sixers_players = {'Joel Embiid', 'Ben Simmons', 'JJ Redick', 'Markelle Fultz', 'Robert Covington'}\n",
    "celtics_players = {'Kyrie Irving', 'Gordon Hayward', 'Al Horford', 'Jayson Tatum', 'Jaylen Brown'}\n",
    "\n",
    "all_players = sixers_players.union(celtics_players)\n",
    "print(all_players)\n",
    "\n",
    "all_players_no_rookies = all_players.difference({'Markelle Fultz', 'Jayson Tatum'})\n",
    "print(all_players_no_rookies)\n",
    "\n",
    "sixers_players_no_rookies = sixers_players.intersection(all_players_no_rookies)\n",
    "print(sixers_players_no_rookies)\n",
    "\n",
    "sixers_players.add('TJ McConnell')\n",
    "print(sixers_players)\n",
    "\n",
    "sixers_players.remove('TJ McConnell')\n",
    "print(sixers_players)"
   ]
  },
  {
   "cell_type": "markdown",
   "metadata": {},
   "source": [
    "## Collections: Dictionaries#\n",
    "\n",
    "Another important Python collection is the dictionary. Dictinoaries look similar to sets in that they're bounded by braces `{ }` with object elements separated by commas. In a way, this notatino is appropriate since a dictionary is a type of set, as we will see soon.\n",
    "\n",
    "Dictionaries are unique, however, because each element is actually a *pair* of objects: a **key** and a **value**. This key/value pair acts like a word/definition pair in a real dictionary. We have a word (key) in mind and then use the dictionary to lookup the definition (value) associated with that particular word (key). For this reason, a Python dictionary is often called a lookup table.\n",
    "\n",
    "When declaring a dictionary, we separate each key/value pair with a comma, and we also separate the key from the value with a colon `:` like so:\n"
   ]
  },
  {
   "cell_type": "code",
   "execution_count": 48,
   "metadata": {},
   "outputs": [
    {
     "data": {
      "text/plain": [
       "dict"
      ]
     },
     "execution_count": 48,
     "metadata": {},
     "output_type": "execute_result"
    }
   ],
   "source": [
    "player_schools = {\n",
    "    'Joel Embiid': 'Kansas',\n",
    "    'Ben Simmons': 'LSU',\n",
    "    'JJ Redick': 'Duke',\n",
    "    'Markelle Fultz': 'Washington',\n",
    "    'Robert Covington': 'Tennessee State'\n",
    "}\n",
    "\n",
    "type(player_schools)"
   ]
  },
  {
   "cell_type": "markdown",
   "metadata": {},
   "source": [
    "To lookup the value for a particular key, we use square brackets `[ ]` and the key name"
   ]
  },
  {
   "cell_type": "code",
   "execution_count": 49,
   "metadata": {},
   "outputs": [
    {
     "data": {
      "text/plain": [
       "'Washington'"
      ]
     },
     "execution_count": 49,
     "metadata": {},
     "output_type": "execute_result"
    }
   ],
   "source": [
    "player_schools['Markelle Fultz']"
   ]
  },
  {
   "cell_type": "markdown",
   "metadata": {},
   "source": [
    "We can also add key/value pairs or update values in the same way we declare variables, assuming the dictionary we're adding to has already been declared:"
   ]
  },
  {
   "cell_type": "code",
   "execution_count": 50,
   "metadata": {},
   "outputs": [],
   "source": [
    "player_schools['TJ McConnell'] = 'Arizona'\n",
    "player_schools['Markelle Fultz'] = 'University of Washington'\n"
   ]
  },
  {
   "cell_type": "markdown",
   "metadata": {},
   "source": [
    "While the main purpose of dictionaries is looking up values, it's also sometimes useful to get a list of the keys or values alone:"
   ]
  },
  {
   "cell_type": "code",
   "execution_count": 51,
   "metadata": {},
   "outputs": [
    {
     "name": "stdout",
     "output_type": "stream",
     "text": [
      "dict_keys(['Joel Embiid', 'Ben Simmons', 'JJ Redick', 'Markelle Fultz', 'Robert Covington', 'TJ McConnell'])\n",
      "dict_values(['Kansas', 'LSU', 'Duke', 'University of Washington', 'Tennessee State', 'Arizona'])\n"
     ]
    }
   ],
   "source": [
    "print(player_schools.keys())\n",
    "print(player_schools.values())"
   ]
  },
  {
   "cell_type": "markdown",
   "metadata": {},
   "source": [
    "And we can also get a list of all key/value pairs using `items()`"
   ]
  },
  {
   "cell_type": "code",
   "execution_count": 52,
   "metadata": {},
   "outputs": [
    {
     "data": {
      "text/plain": [
       "dict_items([('Joel Embiid', 'Kansas'), ('Ben Simmons', 'LSU'), ('JJ Redick', 'Duke'), ('Markelle Fultz', 'University of Washington'), ('Robert Covington', 'Tennessee State'), ('TJ McConnell', 'Arizona')])"
      ]
     },
     "execution_count": 52,
     "metadata": {},
     "output_type": "execute_result"
    }
   ],
   "source": [
    "player_schools.items()"
   ]
  },
  {
   "cell_type": "markdown",
   "metadata": {},
   "source": [
    "## Vectors and Matrices: Numpy#\n",
    "\n",
    "The [`numpy`](https://docs.scipy.org/doc/numpy/reference/) package implements vectors, matrices, and vectorized operations, including [several important matrix decompositions](https://docs.scipy.org/doc/numpy-1.15.0/reference/routines.linalg.html).\n",
    "\n",
    "We'll start with making a **numpy array**, similar to a list in terms of construction, accessing elements."
   ]
  },
  {
   "cell_type": "code",
   "execution_count": 53,
   "metadata": {},
   "outputs": [
    {
     "data": {
      "text/plain": [
       "array([112,  87,  90, 103, 126])"
      ]
     },
     "execution_count": 53,
     "metadata": {},
     "output_type": "execute_result"
    }
   ],
   "source": [
    "import numpy as np\n",
    "\n",
    "game_points = [112, 87, 90, 103, 126]\n",
    "gp_array = np.array(game_points)\n",
    "gp_array"
   ]
  },
  {
   "cell_type": "code",
   "execution_count": 54,
   "metadata": {},
   "outputs": [
    {
     "name": "stdout",
     "output_type": "stream",
     "text": [
      "87\n"
     ]
    }
   ],
   "source": [
    "print(gp_array[1])"
   ]
  },
  {
   "cell_type": "code",
   "execution_count": 55,
   "metadata": {},
   "outputs": [
    {
     "data": {
      "text/plain": [
       "103"
      ]
     },
     "execution_count": 55,
     "metadata": {},
     "output_type": "execute_result"
    }
   ],
   "source": [
    "gp_array[3]"
   ]
  },
  {
   "cell_type": "code",
   "execution_count": 56,
   "metadata": {},
   "outputs": [
    {
     "data": {
      "text/plain": [
       "array([112,  87, 103, 126])"
      ]
     },
     "execution_count": 56,
     "metadata": {},
     "output_type": "execute_result"
    }
   ],
   "source": [
    "gp_array[[0, 1, 3, 4]]\n"
   ]
  },
  {
   "cell_type": "code",
   "execution_count": 57,
   "metadata": {},
   "outputs": [
    {
     "data": {
      "text/plain": [
       "array([112,  87,  90, 103])"
      ]
     },
     "execution_count": 57,
     "metadata": {},
     "output_type": "execute_result"
    }
   ],
   "source": [
    "gp_array[0:4]"
   ]
  },
  {
   "cell_type": "markdown",
   "metadata": {},
   "source": [
    "Numpy has vector functions common to calculators, Excel, and other software. Some functions are common to the Numpy module `np` and the array class methods (e.g. `min`, `max`, `mean`, `std`, `round`), and other functions are specific to one or the other (e.g. `np.where()`, `np.concatenate()`)."
   ]
  },
  {
   "cell_type": "code",
   "execution_count": 58,
   "metadata": {},
   "outputs": [
    {
     "data": {
      "text/plain": [
       "126"
      ]
     },
     "execution_count": 58,
     "metadata": {},
     "output_type": "execute_result"
    }
   ],
   "source": [
    "gp_array.max()"
   ]
  },
  {
   "cell_type": "code",
   "execution_count": 59,
   "metadata": {},
   "outputs": [
    {
     "data": {
      "text/plain": [
       "103.6"
      ]
     },
     "execution_count": 59,
     "metadata": {},
     "output_type": "execute_result"
    }
   ],
   "source": [
    "gp_array.mean()"
   ]
  },
  {
   "cell_type": "code",
   "execution_count": 60,
   "metadata": {},
   "outputs": [
    {
     "data": {
      "text/plain": [
       "14.37"
      ]
     },
     "execution_count": 60,
     "metadata": {},
     "output_type": "execute_result"
    }
   ],
   "source": [
    "gp_array.std().round(2)"
   ]
  },
  {
   "cell_type": "code",
   "execution_count": 61,
   "metadata": {},
   "outputs": [
    {
     "data": {
      "text/plain": [
       "(array([0, 3, 4]),)"
      ]
     },
     "execution_count": 61,
     "metadata": {},
     "output_type": "execute_result"
    }
   ],
   "source": [
    "np.where(gp_array > 100)"
   ]
  },
  {
   "cell_type": "code",
   "execution_count": 62,
   "metadata": {},
   "outputs": [
    {
     "data": {
      "text/plain": [
       "matrix([[112,  87,  90, 103, 126],\n",
       "        [ 75,  90, 104,  96, 130]])"
      ]
     },
     "execution_count": 62,
     "metadata": {},
     "output_type": "execute_result"
    }
   ],
   "source": [
    "opponent_points = [75, 90, 104, 96, 130]\n",
    "points_matrix = np.matrix([game_points, opponent_points])\n",
    "points_matrix"
   ]
  },
  {
   "cell_type": "markdown",
   "metadata": {},
   "source": [
    "A matrix is essentially a list of lists and can be accessed with square brackets `[ ]`, including with a colon `:` or a blank character along any rows/columns where we want the whole range."
   ]
  },
  {
   "cell_type": "code",
   "execution_count": 63,
   "metadata": {},
   "outputs": [
    {
     "name": "stdout",
     "output_type": "stream",
     "text": [
      "[[ 37  -3 -14   7  -4]]\n",
      "\n",
      "--\n",
      "\n",
      "(array([0, 0]), array([0, 3]))\n"
     ]
    }
   ],
   "source": [
    "score_margin = points_matrix[0, :] - points_matrix[1, :]\n",
    "# score_margin = points_matrix[0,] - points_matrix[1,]  # try this\n",
    "points_matrix = np.matrix([game_points, opponent_points])\n",
    "print(score_margin)\n",
    "\n",
    "print('\\n--\\n')\n",
    "\n",
    "print(np.where(score_margin > 0))"
   ]
  },
  {
   "cell_type": "markdown",
   "metadata": {},
   "source": [
    "## Data Frames: Pandas#\n",
    "\n",
    "The [pandas](http://pandas.pydata.org/pandas-docs/stable/) package will be familiar to anyone who has programmed in R. It implements a `DataFrame` class akin to R's data frames. This `DataFrame` is a labeled matrix composed of multiple `Series` objects, where each `Series` is a labeled vector.\n",
    "\n",
    "To see this in action, let's use a `pandas` function to scrape some online data.\n"
   ]
  },
  {
   "cell_type": "code",
   "execution_count": 64,
   "metadata": {},
   "outputs": [
    {
     "data": {
      "text/plain": [
       "[          Eastern Conference   W   L   W/L%    GB   PS/G   PA/G   SRS\n",
       " 0       Toronto Raptors* (1)  59  23  0.720     —  111.7  103.9  7.29\n",
       " 1        Boston Celtics* (2)  55  27  0.671   4.0  104.0  100.4  3.23\n",
       " 2    Philadelphia 76ers* (3)  52  30  0.634   7.0  109.8  105.3  4.30\n",
       " 3   Cleveland Cavaliers* (4)  50  32  0.610   9.0  110.9  109.9  0.59\n",
       " 4        Indiana Pacers* (5)  48  34  0.585  11.0  105.6  104.2  1.18\n",
       " 5            Miami Heat* (6)  44  38  0.537  15.0  103.4  102.9  0.15\n",
       " 6       Milwaukee Bucks* (7)  44  38  0.537  15.0  106.5  106.8 -0.45\n",
       " 7    Washington Wizards* (8)  43  39  0.524  16.0  106.6  106.0  0.53\n",
       " 8        Detroit Pistons (9)  39  43  0.476  20.0  103.8  103.9 -0.26\n",
       " 9     Charlotte Hornets (10)  36  46  0.439  23.0  108.2  108.0  0.07\n",
       " 10      New York Knicks (11)  29  53  0.354  30.0  104.5  108.0 -3.53\n",
       " 11        Brooklyn Nets (12)  28  54  0.341  31.0  106.6  110.3 -3.67\n",
       " 12        Chicago Bulls (13)  27  55  0.329  32.0  102.9  110.0 -6.84\n",
       " 13        Orlando Magic (14)  25  57  0.305  34.0  103.4  108.2 -4.92\n",
       " 14        Atlanta Hawks (15)  24  58  0.293  35.0  103.4  108.8 -5.30,\n",
       "              Western Conference   W   L   W/L%    GB   PS/G   PA/G   SRS\n",
       " 0          Houston Rockets* (1)  65  17  0.793     —  112.4  103.9  8.21\n",
       " 1    Golden State Warriors* (2)  58  24  0.707   7.0  113.5  107.5  5.79\n",
       " 2   Portland Trail Blazers* (3)  49  33  0.598  16.0  105.6  103.0  2.60\n",
       " 3    Oklahoma City Thunder* (4)  48  34  0.585  17.0  107.9  104.4  3.42\n",
       " 4                Utah Jazz* (5)  48  34  0.585  17.0  104.1   99.8  4.47\n",
       " 5     New Orleans Pelicans* (6)  48  34  0.585  17.0  111.7  110.4  1.48\n",
       " 6        San Antonio Spurs* (7)  47  35  0.573  18.0  102.7   99.8  2.89\n",
       " 7   Minnesota Timberwolves* (8)  47  35  0.573  18.0  109.5  107.3  2.35\n",
       " 8            Denver Nuggets (9)  46  36  0.561  19.0  110.0  108.5  1.57\n",
       " 9     Los Angeles Clippers (10)  42  40  0.512  23.0  109.0  109.0  0.15\n",
       " 10      Los Angeles Lakers (11)  35  47  0.427  30.0  108.1  109.6 -1.44\n",
       " 11        Sacramento Kings (12)  27  55  0.329  38.0   98.8  105.8 -6.60\n",
       " 12        Dallas Mavericks (13)  24  58  0.293  41.0  102.3  105.4 -2.70\n",
       " 13       Memphis Grizzlies (14)  22  60  0.268  43.0   99.3  105.5 -5.81\n",
       " 14            Phoenix Suns (15)  21  61  0.256  44.0  103.9  113.3 -8.80,\n",
       "           Eastern Conference     W     L   W/L%    GB   PS/G   PA/G   SRS\n",
       " 0          Atlantic Division   NaN   NaN    NaN   NaN    NaN    NaN   NaN\n",
       " 1       Toronto Raptors* (1)  59.0  23.0  0.720     —  111.7  103.9  7.29\n",
       " 2        Boston Celtics* (2)  55.0  27.0  0.671   4.0  104.0  100.4  3.23\n",
       " 3    Philadelphia 76ers* (3)  52.0  30.0  0.634   7.0  109.8  105.3  4.30\n",
       " 4       New York Knicks (11)  29.0  53.0  0.354  30.0  104.5  108.0 -3.53\n",
       " 5         Brooklyn Nets (12)  28.0  54.0  0.341  31.0  106.6  110.3 -3.67\n",
       " 6           Central Division   NaN   NaN    NaN   NaN    NaN    NaN   NaN\n",
       " 7   Cleveland Cavaliers* (4)  50.0  32.0  0.610     —  110.9  109.9  0.59\n",
       " 8        Indiana Pacers* (5)  48.0  34.0  0.585   2.0  105.6  104.2  1.18\n",
       " 9       Milwaukee Bucks* (7)  44.0  38.0  0.537   6.0  106.5  106.8 -0.45\n",
       " 10       Detroit Pistons (9)  39.0  43.0  0.476  11.0  103.8  103.9 -0.26\n",
       " 11        Chicago Bulls (13)  27.0  55.0  0.329  23.0  102.9  110.0 -6.84\n",
       " 12        Southeast Division   NaN   NaN    NaN   NaN    NaN    NaN   NaN\n",
       " 13           Miami Heat* (6)  44.0  38.0  0.537     —  103.4  102.9  0.15\n",
       " 14   Washington Wizards* (8)  43.0  39.0  0.524   1.0  106.6  106.0  0.53\n",
       " 15    Charlotte Hornets (10)  36.0  46.0  0.439   8.0  108.2  108.0  0.07\n",
       " 16        Orlando Magic (14)  25.0  57.0  0.305  19.0  103.4  108.2 -4.92\n",
       " 17        Atlanta Hawks (15)  24.0  58.0  0.293  20.0  103.4  108.8 -5.30,\n",
       "              Western Conference     W     L   W/L%    GB   PS/G   PA/G   SRS\n",
       " 0            Northwest Division   NaN   NaN    NaN   NaN    NaN    NaN   NaN\n",
       " 1   Portland Trail Blazers* (3)  49.0  33.0  0.598     —  105.6  103.0  2.60\n",
       " 2    Oklahoma City Thunder* (4)  48.0  34.0  0.585   1.0  107.9  104.4  3.42\n",
       " 3                Utah Jazz* (5)  48.0  34.0  0.585   1.0  104.1   99.8  4.47\n",
       " 4   Minnesota Timberwolves* (8)  47.0  35.0  0.573   2.0  109.5  107.3  2.35\n",
       " 5            Denver Nuggets (9)  46.0  36.0  0.561   3.0  110.0  108.5  1.57\n",
       " 6              Pacific Division   NaN   NaN    NaN   NaN    NaN    NaN   NaN\n",
       " 7    Golden State Warriors* (2)  58.0  24.0  0.707     —  113.5  107.5  5.79\n",
       " 8     Los Angeles Clippers (10)  42.0  40.0  0.512  16.0  109.0  109.0  0.15\n",
       " 9       Los Angeles Lakers (11)  35.0  47.0  0.427  23.0  108.1  109.6 -1.44\n",
       " 10        Sacramento Kings (12)  27.0  55.0  0.329  31.0   98.8  105.8 -6.60\n",
       " 11            Phoenix Suns (15)  21.0  61.0  0.256  37.0  103.9  113.3 -8.80\n",
       " 12           Southwest Division   NaN   NaN    NaN   NaN    NaN    NaN   NaN\n",
       " 13         Houston Rockets* (1)  65.0  17.0  0.793     —  112.4  103.9  8.21\n",
       " 14    New Orleans Pelicans* (6)  48.0  34.0  0.585  17.0  111.7  110.4  1.48\n",
       " 15       San Antonio Spurs* (7)  47.0  35.0  0.573  18.0  102.7   99.8  2.89\n",
       " 16        Dallas Mavericks (13)  24.0  58.0  0.293  41.0  102.3  105.4 -2.70\n",
       " 17       Memphis Grizzlies (14)  22.0  60.0  0.268  43.0   99.3  105.5 -5.81]"
      ]
     },
     "execution_count": 64,
     "metadata": {},
     "output_type": "execute_result"
    }
   ],
   "source": [
    "import pandas as pd\n",
    "df = pd.read_html('https://www.basketball-reference.com/leagues/NBA_2018.html')\n",
    "df"
   ]
  },
  {
   "cell_type": "markdown",
   "metadata": {},
   "source": [
    "\n",
    "Our \"data frame\" `df` actually ended up being a list with four different data frames. We'll break them up\n"
   ]
  },
  {
   "cell_type": "code",
   "execution_count": 65,
   "metadata": {},
   "outputs": [
    {
     "data": {
      "text/html": [
       "<div>\n",
       "<style scoped>\n",
       "    .dataframe tbody tr th:only-of-type {\n",
       "        vertical-align: middle;\n",
       "    }\n",
       "\n",
       "    .dataframe tbody tr th {\n",
       "        vertical-align: top;\n",
       "    }\n",
       "\n",
       "    .dataframe thead th {\n",
       "        text-align: right;\n",
       "    }\n",
       "</style>\n",
       "<table border=\"1\" class=\"dataframe\">\n",
       "  <thead>\n",
       "    <tr style=\"text-align: right;\">\n",
       "      <th></th>\n",
       "      <th>Eastern Conference</th>\n",
       "      <th>W</th>\n",
       "      <th>L</th>\n",
       "      <th>W/L%</th>\n",
       "      <th>GB</th>\n",
       "      <th>PS/G</th>\n",
       "      <th>PA/G</th>\n",
       "      <th>SRS</th>\n",
       "    </tr>\n",
       "  </thead>\n",
       "  <tbody>\n",
       "    <tr>\n",
       "      <th>0</th>\n",
       "      <td>Toronto Raptors* (1)</td>\n",
       "      <td>59</td>\n",
       "      <td>23</td>\n",
       "      <td>0.720</td>\n",
       "      <td>—</td>\n",
       "      <td>111.7</td>\n",
       "      <td>103.9</td>\n",
       "      <td>7.29</td>\n",
       "    </tr>\n",
       "    <tr>\n",
       "      <th>1</th>\n",
       "      <td>Boston Celtics* (2)</td>\n",
       "      <td>55</td>\n",
       "      <td>27</td>\n",
       "      <td>0.671</td>\n",
       "      <td>4.0</td>\n",
       "      <td>104.0</td>\n",
       "      <td>100.4</td>\n",
       "      <td>3.23</td>\n",
       "    </tr>\n",
       "    <tr>\n",
       "      <th>2</th>\n",
       "      <td>Philadelphia 76ers* (3)</td>\n",
       "      <td>52</td>\n",
       "      <td>30</td>\n",
       "      <td>0.634</td>\n",
       "      <td>7.0</td>\n",
       "      <td>109.8</td>\n",
       "      <td>105.3</td>\n",
       "      <td>4.30</td>\n",
       "    </tr>\n",
       "    <tr>\n",
       "      <th>3</th>\n",
       "      <td>Cleveland Cavaliers* (4)</td>\n",
       "      <td>50</td>\n",
       "      <td>32</td>\n",
       "      <td>0.610</td>\n",
       "      <td>9.0</td>\n",
       "      <td>110.9</td>\n",
       "      <td>109.9</td>\n",
       "      <td>0.59</td>\n",
       "    </tr>\n",
       "    <tr>\n",
       "      <th>4</th>\n",
       "      <td>Indiana Pacers* (5)</td>\n",
       "      <td>48</td>\n",
       "      <td>34</td>\n",
       "      <td>0.585</td>\n",
       "      <td>11.0</td>\n",
       "      <td>105.6</td>\n",
       "      <td>104.2</td>\n",
       "      <td>1.18</td>\n",
       "    </tr>\n",
       "    <tr>\n",
       "      <th>5</th>\n",
       "      <td>Miami Heat* (6)</td>\n",
       "      <td>44</td>\n",
       "      <td>38</td>\n",
       "      <td>0.537</td>\n",
       "      <td>15.0</td>\n",
       "      <td>103.4</td>\n",
       "      <td>102.9</td>\n",
       "      <td>0.15</td>\n",
       "    </tr>\n",
       "    <tr>\n",
       "      <th>6</th>\n",
       "      <td>Milwaukee Bucks* (7)</td>\n",
       "      <td>44</td>\n",
       "      <td>38</td>\n",
       "      <td>0.537</td>\n",
       "      <td>15.0</td>\n",
       "      <td>106.5</td>\n",
       "      <td>106.8</td>\n",
       "      <td>-0.45</td>\n",
       "    </tr>\n",
       "    <tr>\n",
       "      <th>7</th>\n",
       "      <td>Washington Wizards* (8)</td>\n",
       "      <td>43</td>\n",
       "      <td>39</td>\n",
       "      <td>0.524</td>\n",
       "      <td>16.0</td>\n",
       "      <td>106.6</td>\n",
       "      <td>106.0</td>\n",
       "      <td>0.53</td>\n",
       "    </tr>\n",
       "    <tr>\n",
       "      <th>8</th>\n",
       "      <td>Detroit Pistons (9)</td>\n",
       "      <td>39</td>\n",
       "      <td>43</td>\n",
       "      <td>0.476</td>\n",
       "      <td>20.0</td>\n",
       "      <td>103.8</td>\n",
       "      <td>103.9</td>\n",
       "      <td>-0.26</td>\n",
       "    </tr>\n",
       "    <tr>\n",
       "      <th>9</th>\n",
       "      <td>Charlotte Hornets (10)</td>\n",
       "      <td>36</td>\n",
       "      <td>46</td>\n",
       "      <td>0.439</td>\n",
       "      <td>23.0</td>\n",
       "      <td>108.2</td>\n",
       "      <td>108.0</td>\n",
       "      <td>0.07</td>\n",
       "    </tr>\n",
       "    <tr>\n",
       "      <th>10</th>\n",
       "      <td>New York Knicks (11)</td>\n",
       "      <td>29</td>\n",
       "      <td>53</td>\n",
       "      <td>0.354</td>\n",
       "      <td>30.0</td>\n",
       "      <td>104.5</td>\n",
       "      <td>108.0</td>\n",
       "      <td>-3.53</td>\n",
       "    </tr>\n",
       "    <tr>\n",
       "      <th>11</th>\n",
       "      <td>Brooklyn Nets (12)</td>\n",
       "      <td>28</td>\n",
       "      <td>54</td>\n",
       "      <td>0.341</td>\n",
       "      <td>31.0</td>\n",
       "      <td>106.6</td>\n",
       "      <td>110.3</td>\n",
       "      <td>-3.67</td>\n",
       "    </tr>\n",
       "    <tr>\n",
       "      <th>12</th>\n",
       "      <td>Chicago Bulls (13)</td>\n",
       "      <td>27</td>\n",
       "      <td>55</td>\n",
       "      <td>0.329</td>\n",
       "      <td>32.0</td>\n",
       "      <td>102.9</td>\n",
       "      <td>110.0</td>\n",
       "      <td>-6.84</td>\n",
       "    </tr>\n",
       "    <tr>\n",
       "      <th>13</th>\n",
       "      <td>Orlando Magic (14)</td>\n",
       "      <td>25</td>\n",
       "      <td>57</td>\n",
       "      <td>0.305</td>\n",
       "      <td>34.0</td>\n",
       "      <td>103.4</td>\n",
       "      <td>108.2</td>\n",
       "      <td>-4.92</td>\n",
       "    </tr>\n",
       "    <tr>\n",
       "      <th>14</th>\n",
       "      <td>Atlanta Hawks (15)</td>\n",
       "      <td>24</td>\n",
       "      <td>58</td>\n",
       "      <td>0.293</td>\n",
       "      <td>35.0</td>\n",
       "      <td>103.4</td>\n",
       "      <td>108.8</td>\n",
       "      <td>-5.30</td>\n",
       "    </tr>\n",
       "  </tbody>\n",
       "</table>\n",
       "</div>"
      ],
      "text/plain": [
       "          Eastern Conference   W   L   W/L%    GB   PS/G   PA/G   SRS\n",
       "0       Toronto Raptors* (1)  59  23  0.720     —  111.7  103.9  7.29\n",
       "1        Boston Celtics* (2)  55  27  0.671   4.0  104.0  100.4  3.23\n",
       "2    Philadelphia 76ers* (3)  52  30  0.634   7.0  109.8  105.3  4.30\n",
       "3   Cleveland Cavaliers* (4)  50  32  0.610   9.0  110.9  109.9  0.59\n",
       "4        Indiana Pacers* (5)  48  34  0.585  11.0  105.6  104.2  1.18\n",
       "5            Miami Heat* (6)  44  38  0.537  15.0  103.4  102.9  0.15\n",
       "6       Milwaukee Bucks* (7)  44  38  0.537  15.0  106.5  106.8 -0.45\n",
       "7    Washington Wizards* (8)  43  39  0.524  16.0  106.6  106.0  0.53\n",
       "8        Detroit Pistons (9)  39  43  0.476  20.0  103.8  103.9 -0.26\n",
       "9     Charlotte Hornets (10)  36  46  0.439  23.0  108.2  108.0  0.07\n",
       "10      New York Knicks (11)  29  53  0.354  30.0  104.5  108.0 -3.53\n",
       "11        Brooklyn Nets (12)  28  54  0.341  31.0  106.6  110.3 -3.67\n",
       "12        Chicago Bulls (13)  27  55  0.329  32.0  102.9  110.0 -6.84\n",
       "13        Orlando Magic (14)  25  57  0.305  34.0  103.4  108.2 -4.92\n",
       "14        Atlanta Hawks (15)  24  58  0.293  35.0  103.4  108.8 -5.30"
      ]
     },
     "execution_count": 65,
     "metadata": {},
     "output_type": "execute_result"
    }
   ],
   "source": [
    "east_standings = df[0]\n",
    "west_standings = df[1]\n",
    "\n",
    "east_conf_standings = df[2]\n",
    "west_conf_standings = df[3]\n",
    "\n",
    "east_standings"
   ]
  },
  {
   "cell_type": "markdown",
   "metadata": {},
   "source": [
    "Now Jupyter even formats the table nicely. 😍 Let's try working with this table.\n",
    "\n",
    "First, notice the column named \"Eastern Conference\" seems to have picked up some descriptive text used on the website, but the column name is really \"Team\". Let's change the column name:\n"
   ]
  },
  {
   "cell_type": "code",
   "execution_count": 66,
   "metadata": {},
   "outputs": [
    {
     "name": "stdout",
     "output_type": "stream",
     "text": [
      "['Eastern Conference', 'W', 'L', 'W/L%', 'GB', 'PS/G', 'PA/G', 'SRS']\n"
     ]
    },
    {
     "data": {
      "text/html": [
       "<div>\n",
       "<style scoped>\n",
       "    .dataframe tbody tr th:only-of-type {\n",
       "        vertical-align: middle;\n",
       "    }\n",
       "\n",
       "    .dataframe tbody tr th {\n",
       "        vertical-align: top;\n",
       "    }\n",
       "\n",
       "    .dataframe thead th {\n",
       "        text-align: right;\n",
       "    }\n",
       "</style>\n",
       "<table border=\"1\" class=\"dataframe\">\n",
       "  <thead>\n",
       "    <tr style=\"text-align: right;\">\n",
       "      <th></th>\n",
       "      <th>Team</th>\n",
       "      <th>W</th>\n",
       "      <th>L</th>\n",
       "      <th>W/L%</th>\n",
       "      <th>GB</th>\n",
       "      <th>PS/G</th>\n",
       "      <th>PA/G</th>\n",
       "      <th>SRS</th>\n",
       "    </tr>\n",
       "  </thead>\n",
       "  <tbody>\n",
       "    <tr>\n",
       "      <th>0</th>\n",
       "      <td>Toronto Raptors* (1)</td>\n",
       "      <td>59</td>\n",
       "      <td>23</td>\n",
       "      <td>0.720</td>\n",
       "      <td>—</td>\n",
       "      <td>111.7</td>\n",
       "      <td>103.9</td>\n",
       "      <td>7.29</td>\n",
       "    </tr>\n",
       "    <tr>\n",
       "      <th>1</th>\n",
       "      <td>Boston Celtics* (2)</td>\n",
       "      <td>55</td>\n",
       "      <td>27</td>\n",
       "      <td>0.671</td>\n",
       "      <td>4.0</td>\n",
       "      <td>104.0</td>\n",
       "      <td>100.4</td>\n",
       "      <td>3.23</td>\n",
       "    </tr>\n",
       "    <tr>\n",
       "      <th>2</th>\n",
       "      <td>Philadelphia 76ers* (3)</td>\n",
       "      <td>52</td>\n",
       "      <td>30</td>\n",
       "      <td>0.634</td>\n",
       "      <td>7.0</td>\n",
       "      <td>109.8</td>\n",
       "      <td>105.3</td>\n",
       "      <td>4.30</td>\n",
       "    </tr>\n",
       "    <tr>\n",
       "      <th>3</th>\n",
       "      <td>Cleveland Cavaliers* (4)</td>\n",
       "      <td>50</td>\n",
       "      <td>32</td>\n",
       "      <td>0.610</td>\n",
       "      <td>9.0</td>\n",
       "      <td>110.9</td>\n",
       "      <td>109.9</td>\n",
       "      <td>0.59</td>\n",
       "    </tr>\n",
       "    <tr>\n",
       "      <th>4</th>\n",
       "      <td>Indiana Pacers* (5)</td>\n",
       "      <td>48</td>\n",
       "      <td>34</td>\n",
       "      <td>0.585</td>\n",
       "      <td>11.0</td>\n",
       "      <td>105.6</td>\n",
       "      <td>104.2</td>\n",
       "      <td>1.18</td>\n",
       "    </tr>\n",
       "    <tr>\n",
       "      <th>5</th>\n",
       "      <td>Miami Heat* (6)</td>\n",
       "      <td>44</td>\n",
       "      <td>38</td>\n",
       "      <td>0.537</td>\n",
       "      <td>15.0</td>\n",
       "      <td>103.4</td>\n",
       "      <td>102.9</td>\n",
       "      <td>0.15</td>\n",
       "    </tr>\n",
       "    <tr>\n",
       "      <th>6</th>\n",
       "      <td>Milwaukee Bucks* (7)</td>\n",
       "      <td>44</td>\n",
       "      <td>38</td>\n",
       "      <td>0.537</td>\n",
       "      <td>15.0</td>\n",
       "      <td>106.5</td>\n",
       "      <td>106.8</td>\n",
       "      <td>-0.45</td>\n",
       "    </tr>\n",
       "    <tr>\n",
       "      <th>7</th>\n",
       "      <td>Washington Wizards* (8)</td>\n",
       "      <td>43</td>\n",
       "      <td>39</td>\n",
       "      <td>0.524</td>\n",
       "      <td>16.0</td>\n",
       "      <td>106.6</td>\n",
       "      <td>106.0</td>\n",
       "      <td>0.53</td>\n",
       "    </tr>\n",
       "    <tr>\n",
       "      <th>8</th>\n",
       "      <td>Detroit Pistons (9)</td>\n",
       "      <td>39</td>\n",
       "      <td>43</td>\n",
       "      <td>0.476</td>\n",
       "      <td>20.0</td>\n",
       "      <td>103.8</td>\n",
       "      <td>103.9</td>\n",
       "      <td>-0.26</td>\n",
       "    </tr>\n",
       "    <tr>\n",
       "      <th>9</th>\n",
       "      <td>Charlotte Hornets (10)</td>\n",
       "      <td>36</td>\n",
       "      <td>46</td>\n",
       "      <td>0.439</td>\n",
       "      <td>23.0</td>\n",
       "      <td>108.2</td>\n",
       "      <td>108.0</td>\n",
       "      <td>0.07</td>\n",
       "    </tr>\n",
       "    <tr>\n",
       "      <th>10</th>\n",
       "      <td>New York Knicks (11)</td>\n",
       "      <td>29</td>\n",
       "      <td>53</td>\n",
       "      <td>0.354</td>\n",
       "      <td>30.0</td>\n",
       "      <td>104.5</td>\n",
       "      <td>108.0</td>\n",
       "      <td>-3.53</td>\n",
       "    </tr>\n",
       "    <tr>\n",
       "      <th>11</th>\n",
       "      <td>Brooklyn Nets (12)</td>\n",
       "      <td>28</td>\n",
       "      <td>54</td>\n",
       "      <td>0.341</td>\n",
       "      <td>31.0</td>\n",
       "      <td>106.6</td>\n",
       "      <td>110.3</td>\n",
       "      <td>-3.67</td>\n",
       "    </tr>\n",
       "    <tr>\n",
       "      <th>12</th>\n",
       "      <td>Chicago Bulls (13)</td>\n",
       "      <td>27</td>\n",
       "      <td>55</td>\n",
       "      <td>0.329</td>\n",
       "      <td>32.0</td>\n",
       "      <td>102.9</td>\n",
       "      <td>110.0</td>\n",
       "      <td>-6.84</td>\n",
       "    </tr>\n",
       "    <tr>\n",
       "      <th>13</th>\n",
       "      <td>Orlando Magic (14)</td>\n",
       "      <td>25</td>\n",
       "      <td>57</td>\n",
       "      <td>0.305</td>\n",
       "      <td>34.0</td>\n",
       "      <td>103.4</td>\n",
       "      <td>108.2</td>\n",
       "      <td>-4.92</td>\n",
       "    </tr>\n",
       "    <tr>\n",
       "      <th>14</th>\n",
       "      <td>Atlanta Hawks (15)</td>\n",
       "      <td>24</td>\n",
       "      <td>58</td>\n",
       "      <td>0.293</td>\n",
       "      <td>35.0</td>\n",
       "      <td>103.4</td>\n",
       "      <td>108.8</td>\n",
       "      <td>-5.30</td>\n",
       "    </tr>\n",
       "  </tbody>\n",
       "</table>\n",
       "</div>"
      ],
      "text/plain": [
       "                        Team   W   L   W/L%    GB   PS/G   PA/G   SRS\n",
       "0       Toronto Raptors* (1)  59  23  0.720     —  111.7  103.9  7.29\n",
       "1        Boston Celtics* (2)  55  27  0.671   4.0  104.0  100.4  3.23\n",
       "2    Philadelphia 76ers* (3)  52  30  0.634   7.0  109.8  105.3  4.30\n",
       "3   Cleveland Cavaliers* (4)  50  32  0.610   9.0  110.9  109.9  0.59\n",
       "4        Indiana Pacers* (5)  48  34  0.585  11.0  105.6  104.2  1.18\n",
       "5            Miami Heat* (6)  44  38  0.537  15.0  103.4  102.9  0.15\n",
       "6       Milwaukee Bucks* (7)  44  38  0.537  15.0  106.5  106.8 -0.45\n",
       "7    Washington Wizards* (8)  43  39  0.524  16.0  106.6  106.0  0.53\n",
       "8        Detroit Pistons (9)  39  43  0.476  20.0  103.8  103.9 -0.26\n",
       "9     Charlotte Hornets (10)  36  46  0.439  23.0  108.2  108.0  0.07\n",
       "10      New York Knicks (11)  29  53  0.354  30.0  104.5  108.0 -3.53\n",
       "11        Brooklyn Nets (12)  28  54  0.341  31.0  106.6  110.3 -3.67\n",
       "12        Chicago Bulls (13)  27  55  0.329  32.0  102.9  110.0 -6.84\n",
       "13        Orlando Magic (14)  25  57  0.305  34.0  103.4  108.2 -4.92\n",
       "14        Atlanta Hawks (15)  24  58  0.293  35.0  103.4  108.8 -5.30"
      ]
     },
     "execution_count": 66,
     "metadata": {},
     "output_type": "execute_result"
    }
   ],
   "source": [
    "column_names = list(east_standings.columns)\n",
    "print(column_names)\n",
    "column_names.remove('Eastern Conference')\n",
    "column_names.insert(0, 'Team')\n",
    "east_standings.columns = column_names\n",
    "east_standings"
   ]
  },
  {
   "cell_type": "markdown",
   "metadata": {},
   "source": [
    "While thie works, there's also another way using `rename()`:"
   ]
  },
  {
   "cell_type": "code",
   "execution_count": 67,
   "metadata": {},
   "outputs": [
    {
     "data": {
      "text/html": [
       "<div>\n",
       "<style scoped>\n",
       "    .dataframe tbody tr th:only-of-type {\n",
       "        vertical-align: middle;\n",
       "    }\n",
       "\n",
       "    .dataframe tbody tr th {\n",
       "        vertical-align: top;\n",
       "    }\n",
       "\n",
       "    .dataframe thead th {\n",
       "        text-align: right;\n",
       "    }\n",
       "</style>\n",
       "<table border=\"1\" class=\"dataframe\">\n",
       "  <thead>\n",
       "    <tr style=\"text-align: right;\">\n",
       "      <th></th>\n",
       "      <th>Team</th>\n",
       "      <th>W</th>\n",
       "      <th>L</th>\n",
       "      <th>W/L%</th>\n",
       "      <th>GB</th>\n",
       "      <th>PS/G</th>\n",
       "      <th>PA/G</th>\n",
       "      <th>SRS</th>\n",
       "    </tr>\n",
       "  </thead>\n",
       "  <tbody>\n",
       "    <tr>\n",
       "      <th>0</th>\n",
       "      <td>Houston Rockets* (1)</td>\n",
       "      <td>65</td>\n",
       "      <td>17</td>\n",
       "      <td>0.793</td>\n",
       "      <td>—</td>\n",
       "      <td>112.4</td>\n",
       "      <td>103.9</td>\n",
       "      <td>8.21</td>\n",
       "    </tr>\n",
       "    <tr>\n",
       "      <th>1</th>\n",
       "      <td>Golden State Warriors* (2)</td>\n",
       "      <td>58</td>\n",
       "      <td>24</td>\n",
       "      <td>0.707</td>\n",
       "      <td>7.0</td>\n",
       "      <td>113.5</td>\n",
       "      <td>107.5</td>\n",
       "      <td>5.79</td>\n",
       "    </tr>\n",
       "    <tr>\n",
       "      <th>2</th>\n",
       "      <td>Portland Trail Blazers* (3)</td>\n",
       "      <td>49</td>\n",
       "      <td>33</td>\n",
       "      <td>0.598</td>\n",
       "      <td>16.0</td>\n",
       "      <td>105.6</td>\n",
       "      <td>103.0</td>\n",
       "      <td>2.60</td>\n",
       "    </tr>\n",
       "    <tr>\n",
       "      <th>3</th>\n",
       "      <td>Oklahoma City Thunder* (4)</td>\n",
       "      <td>48</td>\n",
       "      <td>34</td>\n",
       "      <td>0.585</td>\n",
       "      <td>17.0</td>\n",
       "      <td>107.9</td>\n",
       "      <td>104.4</td>\n",
       "      <td>3.42</td>\n",
       "    </tr>\n",
       "    <tr>\n",
       "      <th>4</th>\n",
       "      <td>Utah Jazz* (5)</td>\n",
       "      <td>48</td>\n",
       "      <td>34</td>\n",
       "      <td>0.585</td>\n",
       "      <td>17.0</td>\n",
       "      <td>104.1</td>\n",
       "      <td>99.8</td>\n",
       "      <td>4.47</td>\n",
       "    </tr>\n",
       "    <tr>\n",
       "      <th>5</th>\n",
       "      <td>New Orleans Pelicans* (6)</td>\n",
       "      <td>48</td>\n",
       "      <td>34</td>\n",
       "      <td>0.585</td>\n",
       "      <td>17.0</td>\n",
       "      <td>111.7</td>\n",
       "      <td>110.4</td>\n",
       "      <td>1.48</td>\n",
       "    </tr>\n",
       "    <tr>\n",
       "      <th>6</th>\n",
       "      <td>San Antonio Spurs* (7)</td>\n",
       "      <td>47</td>\n",
       "      <td>35</td>\n",
       "      <td>0.573</td>\n",
       "      <td>18.0</td>\n",
       "      <td>102.7</td>\n",
       "      <td>99.8</td>\n",
       "      <td>2.89</td>\n",
       "    </tr>\n",
       "    <tr>\n",
       "      <th>7</th>\n",
       "      <td>Minnesota Timberwolves* (8)</td>\n",
       "      <td>47</td>\n",
       "      <td>35</td>\n",
       "      <td>0.573</td>\n",
       "      <td>18.0</td>\n",
       "      <td>109.5</td>\n",
       "      <td>107.3</td>\n",
       "      <td>2.35</td>\n",
       "    </tr>\n",
       "    <tr>\n",
       "      <th>8</th>\n",
       "      <td>Denver Nuggets (9)</td>\n",
       "      <td>46</td>\n",
       "      <td>36</td>\n",
       "      <td>0.561</td>\n",
       "      <td>19.0</td>\n",
       "      <td>110.0</td>\n",
       "      <td>108.5</td>\n",
       "      <td>1.57</td>\n",
       "    </tr>\n",
       "    <tr>\n",
       "      <th>9</th>\n",
       "      <td>Los Angeles Clippers (10)</td>\n",
       "      <td>42</td>\n",
       "      <td>40</td>\n",
       "      <td>0.512</td>\n",
       "      <td>23.0</td>\n",
       "      <td>109.0</td>\n",
       "      <td>109.0</td>\n",
       "      <td>0.15</td>\n",
       "    </tr>\n",
       "    <tr>\n",
       "      <th>10</th>\n",
       "      <td>Los Angeles Lakers (11)</td>\n",
       "      <td>35</td>\n",
       "      <td>47</td>\n",
       "      <td>0.427</td>\n",
       "      <td>30.0</td>\n",
       "      <td>108.1</td>\n",
       "      <td>109.6</td>\n",
       "      <td>-1.44</td>\n",
       "    </tr>\n",
       "    <tr>\n",
       "      <th>11</th>\n",
       "      <td>Sacramento Kings (12)</td>\n",
       "      <td>27</td>\n",
       "      <td>55</td>\n",
       "      <td>0.329</td>\n",
       "      <td>38.0</td>\n",
       "      <td>98.8</td>\n",
       "      <td>105.8</td>\n",
       "      <td>-6.60</td>\n",
       "    </tr>\n",
       "    <tr>\n",
       "      <th>12</th>\n",
       "      <td>Dallas Mavericks (13)</td>\n",
       "      <td>24</td>\n",
       "      <td>58</td>\n",
       "      <td>0.293</td>\n",
       "      <td>41.0</td>\n",
       "      <td>102.3</td>\n",
       "      <td>105.4</td>\n",
       "      <td>-2.70</td>\n",
       "    </tr>\n",
       "    <tr>\n",
       "      <th>13</th>\n",
       "      <td>Memphis Grizzlies (14)</td>\n",
       "      <td>22</td>\n",
       "      <td>60</td>\n",
       "      <td>0.268</td>\n",
       "      <td>43.0</td>\n",
       "      <td>99.3</td>\n",
       "      <td>105.5</td>\n",
       "      <td>-5.81</td>\n",
       "    </tr>\n",
       "    <tr>\n",
       "      <th>14</th>\n",
       "      <td>Phoenix Suns (15)</td>\n",
       "      <td>21</td>\n",
       "      <td>61</td>\n",
       "      <td>0.256</td>\n",
       "      <td>44.0</td>\n",
       "      <td>103.9</td>\n",
       "      <td>113.3</td>\n",
       "      <td>-8.80</td>\n",
       "    </tr>\n",
       "  </tbody>\n",
       "</table>\n",
       "</div>"
      ],
      "text/plain": [
       "                           Team   W   L   W/L%    GB   PS/G   PA/G   SRS\n",
       "0          Houston Rockets* (1)  65  17  0.793     —  112.4  103.9  8.21\n",
       "1    Golden State Warriors* (2)  58  24  0.707   7.0  113.5  107.5  5.79\n",
       "2   Portland Trail Blazers* (3)  49  33  0.598  16.0  105.6  103.0  2.60\n",
       "3    Oklahoma City Thunder* (4)  48  34  0.585  17.0  107.9  104.4  3.42\n",
       "4                Utah Jazz* (5)  48  34  0.585  17.0  104.1   99.8  4.47\n",
       "5     New Orleans Pelicans* (6)  48  34  0.585  17.0  111.7  110.4  1.48\n",
       "6        San Antonio Spurs* (7)  47  35  0.573  18.0  102.7   99.8  2.89\n",
       "7   Minnesota Timberwolves* (8)  47  35  0.573  18.0  109.5  107.3  2.35\n",
       "8            Denver Nuggets (9)  46  36  0.561  19.0  110.0  108.5  1.57\n",
       "9     Los Angeles Clippers (10)  42  40  0.512  23.0  109.0  109.0  0.15\n",
       "10      Los Angeles Lakers (11)  35  47  0.427  30.0  108.1  109.6 -1.44\n",
       "11        Sacramento Kings (12)  27  55  0.329  38.0   98.8  105.8 -6.60\n",
       "12        Dallas Mavericks (13)  24  58  0.293  41.0  102.3  105.4 -2.70\n",
       "13       Memphis Grizzlies (14)  22  60  0.268  43.0   99.3  105.5 -5.81\n",
       "14            Phoenix Suns (15)  21  61  0.256  44.0  103.9  113.3 -8.80"
      ]
     },
     "execution_count": 67,
     "metadata": {},
     "output_type": "execute_result"
    }
   ],
   "source": [
    "west_standings.rename(columns={'Western Conference': 'Team'}, inplace=True)\n",
    "west_standings"
   ]
  },
  {
   "cell_type": "markdown",
   "metadata": {},
   "source": [
    "Let's try accessing some of the data. We can get a column's data using its name like an attribute after a dot `.`. Or we can pass the column name as a string in square brackets `[ ]`."
   ]
  },
  {
   "cell_type": "code",
   "execution_count": 68,
   "metadata": {},
   "outputs": [
    {
     "data": {
      "text/plain": [
       "0     59\n",
       "1     55\n",
       "2     52\n",
       "3     50\n",
       "4     48\n",
       "5     44\n",
       "6     44\n",
       "7     43\n",
       "8     39\n",
       "9     36\n",
       "10    29\n",
       "11    28\n",
       "12    27\n",
       "13    25\n",
       "14    24\n",
       "Name: W, dtype: int64"
      ]
     },
     "execution_count": 68,
     "metadata": {},
     "output_type": "execute_result"
    }
   ],
   "source": [
    "east_standings.W"
   ]
  },
  {
   "cell_type": "code",
   "execution_count": 69,
   "metadata": {},
   "outputs": [
    {
     "data": {
      "text/plain": [
       "0     59\n",
       "1     55\n",
       "2     52\n",
       "3     50\n",
       "4     48\n",
       "5     44\n",
       "6     44\n",
       "7     43\n",
       "8     39\n",
       "9     36\n",
       "10    29\n",
       "11    28\n",
       "12    27\n",
       "13    25\n",
       "14    24\n",
       "Name: W, dtype: int64"
      ]
     },
     "execution_count": 69,
     "metadata": {},
     "output_type": "execute_result"
    }
   ],
   "source": [
    "east_standings['W']"
   ]
  },
  {
   "cell_type": "markdown",
   "metadata": {},
   "source": [
    "These columns are `pandas.Series` objects, which are essentially a cross between a Python dictionary and a `numpy.ndarray`. \n"
   ]
  },
  {
   "cell_type": "code",
   "execution_count": 70,
   "metadata": {},
   "outputs": [
    {
     "data": {
      "text/plain": [
       "40.2"
      ]
     },
     "execution_count": 70,
     "metadata": {},
     "output_type": "execute_result"
    }
   ],
   "source": [
    "east_standings.W.mean()"
   ]
  },
  {
   "cell_type": "code",
   "execution_count": 71,
   "metadata": {},
   "outputs": [
    {
     "data": {
      "text/plain": [
       "11.55"
      ]
     },
     "execution_count": 71,
     "metadata": {},
     "output_type": "execute_result"
    }
   ],
   "source": [
    "east_standings.W.std().round(2)"
   ]
  },
  {
   "cell_type": "code",
   "execution_count": 72,
   "metadata": {},
   "outputs": [
    {
     "data": {
      "text/plain": [
       "array([59, 55, 52, 50, 48, 44, 44, 43, 39, 36, 29, 28, 27, 25, 24])"
      ]
     },
     "execution_count": 72,
     "metadata": {},
     "output_type": "execute_result"
    }
   ],
   "source": [
    "east_standings.W.values # values accesses the underlying Numpy array"
   ]
  },
  {
   "cell_type": "code",
   "execution_count": 73,
   "metadata": {},
   "outputs": [
    {
     "data": {
      "text/plain": [
       "RangeIndex(start=0, stop=15, step=1)"
      ]
     },
     "execution_count": 73,
     "metadata": {},
     "output_type": "execute_result"
    }
   ],
   "source": [
    "east_standings.W.keys()"
   ]
  },
  {
   "cell_type": "markdown",
   "metadata": {},
   "source": [
    "We'll explore how to process data frames in Unit 6. \n",
    "\n",
    "In the meantime, just note that data frames can write to and read from several file types:\n",
    "* `html`, as we saw above\n",
    "* `csv`, useful for working in R or Excel\n",
    "* `json\n",
    "* `xlsx`\n",
    "\n",
    "In general we can use functions `pd.read_****()` to read from files and data frame functions `df.to_****()` for writing to files."
   ]
  },
  {
   "cell_type": "code",
   "execution_count": 74,
   "metadata": {},
   "outputs": [
    {
     "data": {
      "text/plain": [
       "Unnamed: 0      7.000000\n",
       "W              40.200000\n",
       "L              41.800000\n",
       "W/L%            0.490333\n",
       "PS/G          106.086667\n",
       "PA/G          106.440000\n",
       "SRS            -0.508667\n",
       "dtype: float64"
      ]
     },
     "execution_count": 74,
     "metadata": {},
     "output_type": "execute_result"
    }
   ],
   "source": [
    "east_standings.to_csv('east.csv')\n",
    "\n",
    "east_standings_loaded = pd.read_csv('east.csv')\n",
    "east_standings_loaded.mean()"
   ]
  },
  {
   "cell_type": "code",
   "execution_count": 75,
   "metadata": {},
   "outputs": [
    {
     "data": {
      "text/plain": [
       "W        40.200000\n",
       "L        41.800000\n",
       "W/L%      0.490333\n",
       "PS/G    106.086667\n",
       "PA/G    106.440000\n",
       "SRS      -0.508667\n",
       "dtype: float64"
      ]
     },
     "execution_count": 75,
     "metadata": {},
     "output_type": "execute_result"
    }
   ],
   "source": [
    "east_standings.to_json('east.json')\n",
    "\n",
    "east_standings_loaded = pd.read_json('east.json')\n",
    "east_standings_loaded.mean()"
   ]
  },
  {
   "cell_type": "code",
   "execution_count": 76,
   "metadata": {},
   "outputs": [
    {
     "data": {
      "text/plain": [
       "W        40.200000\n",
       "L        41.800000\n",
       "W/L%      0.490333\n",
       "PS/G    106.086667\n",
       "PA/G    106.440000\n",
       "SRS      -0.508667\n",
       "dtype: float64"
      ]
     },
     "execution_count": 76,
     "metadata": {},
     "output_type": "execute_result"
    }
   ],
   "source": [
    "east_standings.to_excel('east.xls')\n",
    "\n",
    "east_standings_loaded = pd.read_excel('east.xls')\n",
    "east_standings_loaded.mean()"
   ]
  },
  {
   "cell_type": "markdown",
   "metadata": {},
   "source": [
    "## Saving Data: Pickle#\n",
    "\n",
    "We've seen how to save data frames. Often we want to save other Python objects to external files, too. This way it becomes easy to resume our progress later, particularly if our processing has involved time-consuming steps. The `pickle` module can accomodate this type of saving and loading.\n",
    "\n",
    "The function `pickle.dump()` can be used to write a `.p` file, which contains Python data (in byte form, hence the `wb` below). And the function `pickle.load()` can then be used to load from the `.p` file."
   ]
  },
  {
   "cell_type": "code",
   "execution_count": 77,
   "metadata": {},
   "outputs": [
    {
     "data": {
      "text/plain": [
       "{'Ben Simmons': 'LSU',\n",
       " 'JJ Redick': 'Duke',\n",
       " 'Joel Embiid': 'Kansas',\n",
       " 'Markelle Fultz': 'University of Washington',\n",
       " 'Robert Covington': 'Tennessee State',\n",
       " 'TJ McConnell': 'Arizona'}"
      ]
     },
     "execution_count": 77,
     "metadata": {},
     "output_type": "execute_result"
    }
   ],
   "source": [
    "import pickle\n",
    "\n",
    "pickle.dump(player_schools, open('player_schools.p', 'wb'))\n",
    "\n",
    "player_schools2 = pickle.load(open('player_schools.p', 'rb'))\n",
    "\n",
    "player_schools2"
   ]
  }
 ],
 "metadata": {
  "anaconda-cloud": {},
  "celltoolbar": "Edit Metadata",
  "kernelspec": {
   "display_name": "Python 3",
   "language": "python",
   "name": "python3"
  },
  "language_info": {
   "codemirror_mode": {
    "name": "ipython",
    "version": 3
   },
   "file_extension": ".py",
   "mimetype": "text/x-python",
   "name": "python",
   "nbconvert_exporter": "python",
   "pygments_lexer": "ipython3",
   "version": "3.6.2"
  },
  "nbpresent": {
   "slides": {},
   "themes": {}
  }
 },
 "nbformat": 4,
 "nbformat_minor": 1
}
