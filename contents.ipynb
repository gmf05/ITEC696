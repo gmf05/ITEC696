{
 "cells": [
  {
   "cell_type": "code",
   "execution_count": 1,
   "metadata": {
    "scrolled": false,
    "type": "DEMO"
   },
   "outputs": [
    {
     "data": {
      "text/markdown": [
       "# Table of Contents"
      ],
      "text/plain": [
       "<IPython.core.display.Markdown object>"
      ]
     },
     "metadata": {},
     "output_type": "display_data"
    },
    {
     "data": {
      "text/markdown": [
       "* [Unit 1: Getting Started](unit1/notebook.html#Unit-1:-Getting-Started)\n",
       " * [Download [Cygwin Terminal](https://cygwin.com/install.html) (Windows users)](unit1/notebook.html#Download-[Cygwin-Terminal](https://cygwin.com/install.html)-(Windows-users))\n",
       " * [Installing Python](unit1/notebook.html#Installing-Python)\n",
       " * [Virtual environments](unit1/notebook.html#Virtual-environments)\n",
       " * [Installing libraries](unit1/notebook.html#Installing-libraries)\n",
       " * [Testing Python](unit1/notebook.html#Testing-Python)\n",
       " * [Installing an IDE](unit1/notebook.html#Installing-an-IDE)\n",
       " * [Testing Jupyter Notebook](unit1/notebook.html#Testing-Jupyter-Notebook)"
      ],
      "text/plain": [
       "<IPython.core.display.Markdown object>"
      ]
     },
     "metadata": {},
     "output_type": "display_data"
    },
    {
     "data": {
      "text/markdown": [
       "* [Unit 1 Lab](unit1/lab.ipynb)"
      ],
      "text/plain": [
       "<IPython.core.display.Markdown object>"
      ]
     },
     "metadata": {},
     "output_type": "display_data"
    },
    {
     "data": {
      "text/markdown": [
       "* [Unit 2: Data Types](unit2/notebook.html#Unit-2:-Data-Types)\n",
       " * [Objects](unit2/notebook.html#Objects)\n",
       " * [Integers and Floats](unit2/notebook.html#Integers-and-Floats)\n",
       " * [Booleans](unit2/notebook.html#Booleans)\n",
       " * [Errors](unit2/notebook.html#Errors)\n",
       " * [Strings](unit2/notebook.html#Strings)\n",
       " * [Bytes](unit2/notebook.html#Bytes)\n",
       " * [Functions](unit2/notebook.html#Functions)\n",
       " * [Dates](unit2/notebook.html#Dates)\n",
       " * [Collections: Lists, Tuples, Sets](unit2/notebook.html#Collections:-Lists,-Tuples,-Sets)\n",
       "  * [Tuples](unit2/notebook.html#Tuples)\n",
       "  * [Sets](unit2/notebook.html#Sets)\n",
       " * [Collections: Dictionaries](unit2/notebook.html#Collections:-Dictionaries)\n",
       " * [Vectors and Matrices: Numpy](unit2/notebook.html#Vectors-and-Matrices:-Numpy)\n",
       " * [Data Frames: Pandas](unit2/notebook.html#Data-Frames:-Pandas)\n",
       " * [Saving Data: Pickle](unit2/notebook.html#Saving-Data:-Pickle)"
      ],
      "text/plain": [
       "<IPython.core.display.Markdown object>"
      ]
     },
     "metadata": {},
     "output_type": "display_data"
    },
    {
     "data": {
      "text/markdown": [
       "* [Unit 2 Lab](unit2/lab.ipynb)"
      ],
      "text/plain": [
       "<IPython.core.display.Markdown object>"
      ]
     },
     "metadata": {},
     "output_type": "display_data"
    },
    {
     "data": {
      "text/markdown": [
       "* [Unit 3: Algorithms in Python](unit3/notebook.html#Unit-3:-Algorithms-in-Python)\n",
       " * [Functions](unit3/notebook.html#Functions)\n",
       " * [`if/elif/else` Blocks](unit3/notebook.html#`if/elif/else`-Blocks)\n",
       " * [`with` ... `as` ...](unit3/notebook.html#`with`-...-`as`-...)\n",
       " * [Loops: `for` and `while`](unit3/notebook.html#Loops:-`for`-and-`while`)\n",
       " * [List Comprehensions](unit3/notebook.html#List-Comprehensions)\n",
       " * [`try`/`except` blocks](unit3/notebook.html#`try`/`except`-blocks)\n",
       " * [Debugging](unit3/notebook.html#Debugging)"
      ],
      "text/plain": [
       "<IPython.core.display.Markdown object>"
      ]
     },
     "metadata": {},
     "output_type": "display_data"
    },
    {
     "data": {
      "text/markdown": [
       "* [Unit 3 Lab](unit3/lab.ipynb)"
      ],
      "text/plain": [
       "<IPython.core.display.Markdown object>"
      ]
     },
     "metadata": {},
     "output_type": "display_data"
    },
    {
     "data": {
      "text/markdown": [
       "* [Unit 4: Processing and Visualizing Data](unit4/notebook.html#Unit-4:-Processing-and-Visualizing-Data)\n",
       " * [Accessing Data](unit4/notebook.html#Accessing-Data)\n",
       " * [Slicing and Filtering](unit4/notebook.html#Slicing-and-Filtering)\n",
       " * [Concatenating](unit4/notebook.html#Concatenating)\n",
       " * [Joining](unit4/notebook.html#Joining)\n",
       " * [Visualizing with Matplotlib](unit4/notebook.html#Visualizing-with-Matplotlib)\n",
       " * [Animations](unit4/notebook.html#Animations)"
      ],
      "text/plain": [
       "<IPython.core.display.Markdown object>"
      ]
     },
     "metadata": {},
     "output_type": "display_data"
    },
    {
     "data": {
      "text/markdown": [
       "* [Unit 4 Lab](unit4/lab.ipynb)"
      ],
      "text/plain": [
       "<IPython.core.display.Markdown object>"
      ]
     },
     "metadata": {},
     "output_type": "display_data"
    },
    {
     "data": {
      "text/markdown": [
       "* [Unit 5: Scraping Data](unit5/notebook.html#Unit-5:-Scraping-Data)"
      ],
      "text/plain": [
       "<IPython.core.display.Markdown object>"
      ]
     },
     "metadata": {},
     "output_type": "display_data"
    },
    {
     "data": {
      "text/markdown": [
       "* [Unit 5 Lab](unit5/lab.ipynb)"
      ],
      "text/plain": [
       "<IPython.core.display.Markdown object>"
      ]
     },
     "metadata": {},
     "output_type": "display_data"
    },
    {
     "data": {
      "text/markdown": [
       "* [Unit 6: Modeling Data](unit6/notebook.html#Unit-6:-Modeling-Data)\n",
       " * [Statsmodels](unit6/notebook.html#Statsmodels)\n",
       " * [Scitkit-learn (sklearn)](unit6/notebook.html#Scitkit-learn-(sklearn))"
      ],
      "text/plain": [
       "<IPython.core.display.Markdown object>"
      ]
     },
     "metadata": {},
     "output_type": "display_data"
    },
    {
     "data": {
      "text/markdown": [
       "* [Unit 6 Lab](unit6/lab.ipynb)"
      ],
      "text/plain": [
       "<IPython.core.display.Markdown object>"
      ]
     },
     "metadata": {},
     "output_type": "display_data"
    },
    {
     "data": {
      "text/markdown": [
       "* [References](refs.html)"
      ],
      "text/plain": [
       "<IPython.core.display.Markdown object>"
      ]
     },
     "metadata": {},
     "output_type": "display_data"
    }
   ],
   "source": [
    "from shared import display_master_toc\n",
    "display_master_toc(link_type='html')"
   ]
  },
  {
   "cell_type": "code",
   "execution_count": null,
   "metadata": {},
   "outputs": [],
   "source": []
  }
 ],
 "metadata": {
  "anaconda-cloud": {},
  "celltoolbar": "Edit Metadata",
  "kernelspec": {
   "display_name": "Python 3",
   "language": "python",
   "name": "python3"
  },
  "language_info": {
   "codemirror_mode": {
    "name": "ipython",
    "version": 3
   },
   "file_extension": ".py",
   "mimetype": "text/x-python",
   "name": "python",
   "nbconvert_exporter": "python",
   "pygments_lexer": "ipython3",
   "version": "3.6.2"
  }
 },
 "nbformat": 4,
 "nbformat_minor": 1
}
