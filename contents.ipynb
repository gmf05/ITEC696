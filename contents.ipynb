{
 "cells": [
  {
   "cell_type": "code",
   "execution_count": 3,
   "metadata": {
    "scrolled": false,
    "type": "DEMO"
   },
   "outputs": [
    {
     "data": {
      "text/markdown": [
       "# Table of Contents"
      ],
      "text/plain": [
       "<IPython.core.display.Markdown object>"
      ]
     },
     "metadata": {},
     "output_type": "display_data"
    },
    {
     "data": {
      "text/markdown": [
       "* [Example Notebook](example.ipynb)"
      ],
      "text/plain": [
       "<IPython.core.display.Markdown object>"
      ]
     },
     "metadata": {},
     "output_type": "display_data"
    },
    {
     "data": {
      "text/markdown": [
       "* [Course GDoc](https://docs.google.com/document/d/11z7wbqWGln0uNj4E90ixz91eGLY0ubUs-qjmgIFVq0g/edit?usp=sharing)"
      ],
      "text/plain": [
       "<IPython.core.display.Markdown object>"
      ]
     },
     "metadata": {},
     "output_type": "display_data"
    },
    {
     "data": {
      "text/markdown": [
       "* [Unit 0: Getting Started](unit0/notebook.ipynb#Unit-0:-Getting-Started)\n",
       " * [Installing Python and Spyder](unit0/notebook.ipynb#Installing-Python-and-Spyder)\n",
       " * [Virtual environments](unit0/notebook.ipynb#Virtual-environments)\n",
       " * [Download [Cygwin Terminal](https://cygwin.com/install.html) (Windows users)](unit0/notebook.ipynb#Download-[Cygwin-Terminal](https://cygwin.com/install.html)-(Windows-users))\n",
       " * [Terminal Walkthrough](unit0/notebook.ipynb#Terminal-Walkthrough)\n",
       " * [Installing libraries](unit0/notebook.ipynb#Installing-libraries)\n",
       " * [Testing Python](unit0/notebook.ipynb#Testing-Python)\n",
       " * [Testing Jupyter Notebook](unit0/notebook.ipynb#Testing-Jupyter-Notebook)"
      ],
      "text/plain": [
       "<IPython.core.display.Markdown object>"
      ]
     },
     "metadata": {},
     "output_type": "display_data"
    },
    {
     "data": {
      "text/markdown": [
       "* [Unit 1 Lab](unit1/lab.ipynb)"
      ],
      "text/plain": [
       "<IPython.core.display.Markdown object>"
      ]
     },
     "metadata": {},
     "output_type": "display_data"
    },
    {
     "data": {
      "text/markdown": [
       "* [Unit 1: Getting Started](unit1/notebook.ipynb#Unit-1:-Getting-Started)\n",
       " * [Download [Cygwin Terminal](https://cygwin.com/install.html) (Windows users)](unit1/notebook.ipynb#Download-[Cygwin-Terminal](https://cygwin.com/install.html)-(Windows-users))\n",
       " * [Installing Python](unit1/notebook.ipynb#Installing-Python)\n",
       " * [Virtual environments](unit1/notebook.ipynb#Virtual-environments)\n",
       " * [Installing libraries](unit1/notebook.ipynb#Installing-libraries)\n",
       " * [Testing Python](unit1/notebook.ipynb#Testing-Python)\n",
       " * [Installing an IDE](unit1/notebook.ipynb#Installing-an-IDE)\n",
       " * [Testing Jupyter Notebook](unit1/notebook.ipynb#Testing-Jupyter-Notebook)"
      ],
      "text/plain": [
       "<IPython.core.display.Markdown object>"
      ]
     },
     "metadata": {},
     "output_type": "display_data"
    },
    {
     "data": {
      "text/markdown": [
       "* [Unit 2 Lab](unit2/lab.ipynb)"
      ],
      "text/plain": [
       "<IPython.core.display.Markdown object>"
      ]
     },
     "metadata": {},
     "output_type": "display_data"
    },
    {
     "data": {
      "text/markdown": [
       "* [Unit 2: Data Types](unit2/notebook.ipynb#Unit-2:-Data-Types)\n",
       " * [Objects](unit2/notebook.ipynb#Objects)\n",
       " * [Integers and Floats](unit2/notebook.ipynb#Integers-and-Floats)\n",
       " * [Booleans](unit2/notebook.ipynb#Booleans)\n",
       " * [Errors](unit2/notebook.ipynb#Errors)\n",
       " * [Strings](unit2/notebook.ipynb#Strings)\n",
       " * [Bytes](unit2/notebook.ipynb#Bytes)\n",
       " * [Functions](unit2/notebook.ipynb#Functions)\n",
       " * [Dates](unit2/notebook.ipynb#Dates)\n",
       " * [Collections: Lists, Tuples, Sets](unit2/notebook.ipynb#Collections:-Lists,-Tuples,-Sets)\n",
       "  * [Tuples](unit2/notebook.ipynb#Tuples)\n",
       "  * [Sets](unit2/notebook.ipynb#Sets)\n",
       " * [Collections: Dictionaries](unit2/notebook.ipynb#Collections:-Dictionaries)\n",
       " * [Vectors and Matrices: Numpy](unit2/notebook.ipynb#Vectors-and-Matrices:-Numpy)\n",
       " * [Data Frames: Pandas](unit2/notebook.ipynb#Data-Frames:-Pandas)\n",
       " * [Saving Data: Pickle](unit2/notebook.ipynb#Saving-Data:-Pickle)"
      ],
      "text/plain": [
       "<IPython.core.display.Markdown object>"
      ]
     },
     "metadata": {},
     "output_type": "display_data"
    },
    {
     "data": {
      "text/markdown": [
       "* [Unit 3 Lab](unit3/lab.ipynb)"
      ],
      "text/plain": [
       "<IPython.core.display.Markdown object>"
      ]
     },
     "metadata": {},
     "output_type": "display_data"
    },
    {
     "data": {
      "text/markdown": [
       "* [Unit 3: Algorithms in Python](unit3/notebook.ipynb#Unit-3:-Algorithms-in-Python)\n",
       " * [Functions](unit3/notebook.ipynb#Functions)\n",
       " * [`if/elif/else` Blocks](unit3/notebook.ipynb#`if/elif/else`-Blocks)\n",
       " * [`with` ... `as` ...](unit3/notebook.ipynb#`with`-...-`as`-...)\n",
       " * [Loops: `for` and `while`](unit3/notebook.ipynb#Loops:-`for`-and-`while`)\n",
       " * [List Comprehensions](unit3/notebook.ipynb#List-Comprehensions)\n",
       " * [`try`/`except` blocks](unit3/notebook.ipynb#`try`/`except`-blocks)\n",
       " * [Debugging](unit3/notebook.ipynb#Debugging)"
      ],
      "text/plain": [
       "<IPython.core.display.Markdown object>"
      ]
     },
     "metadata": {},
     "output_type": "display_data"
    },
    {
     "data": {
      "text/markdown": [
       "* [Unit 4 Lab](unit4/lab.ipynb)"
      ],
      "text/plain": [
       "<IPython.core.display.Markdown object>"
      ]
     },
     "metadata": {},
     "output_type": "display_data"
    },
    {
     "data": {
      "text/markdown": [
       "* [Unit 4: Processing and Visualizing Data](unit4/notebook.ipynb#Unit-4:-Processing-and-Visualizing-Data)\n",
       " * [Accessing Data](unit4/notebook.ipynb#Accessing-Data)\n",
       " * [Slicing and Filtering](unit4/notebook.ipynb#Slicing-and-Filtering)\n",
       " * [Concatenating](unit4/notebook.ipynb#Concatenating)\n",
       " * [Joining](unit4/notebook.ipynb#Joining)\n",
       " * [Visualizing with Matplotlib](unit4/notebook.ipynb#Visualizing-with-Matplotlib)\n",
       " * [Scratchpad](unit4/notebook.ipynb#Scratchpad)\n",
       " * [Animations](unit4/notebook.ipynb#Animations)"
      ],
      "text/plain": [
       "<IPython.core.display.Markdown object>"
      ]
     },
     "metadata": {},
     "output_type": "display_data"
    },
    {
     "data": {
      "text/markdown": [
       "* [Unit 5 Lab](unit5/lab.ipynb)"
      ],
      "text/plain": [
       "<IPython.core.display.Markdown object>"
      ]
     },
     "metadata": {},
     "output_type": "display_data"
    },
    {
     "data": {
      "text/markdown": [
       "* [References](refs.ipynb)"
      ],
      "text/plain": [
       "<IPython.core.display.Markdown object>"
      ]
     },
     "metadata": {},
     "output_type": "display_data"
    }
   ],
   "source": [
    "from shared import display_master_toc\n",
    "display_master_toc(link_type='ipynb')"
   ]
  },
  {
   "cell_type": "code",
   "execution_count": null,
   "metadata": {},
   "outputs": [],
   "source": []
  }
 ],
 "metadata": {
  "anaconda-cloud": {},
  "celltoolbar": "Edit Metadata",
  "kernelspec": {
   "display_name": "Python 3",
   "language": "python",
   "name": "python3"
  },
  "language_info": {
   "codemirror_mode": {
    "name": "ipython",
    "version": 3
   },
   "file_extension": ".py",
   "mimetype": "text/x-python",
   "name": "python",
   "nbconvert_exporter": "python",
   "pygments_lexer": "ipython3",
   "version": "3.6.2"
  }
 },
 "nbformat": 4,
 "nbformat_minor": 1
}
