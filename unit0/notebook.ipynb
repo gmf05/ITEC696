{
 "cells": [
  {
   "cell_type": "markdown",
   "metadata": {},
   "source": [
    "# Unit 0: Getting Started#"
   ]
  },
  {
   "cell_type": "code",
   "execution_count": 3,
   "metadata": {
    "scrolled": true
   },
   "outputs": [
    {
     "data": {
      "text/markdown": [
       "# Table of Contents"
      ],
      "text/plain": [
       "<IPython.core.display.Markdown object>"
      ]
     },
     "metadata": {},
     "output_type": "display_data"
    },
    {
     "data": {
      "text/markdown": [
       "* [Unit 0: Getting Started](#Unit-0:-Getting-Started)\n",
       " * [Installing Python and Spyder](#Installing-Python-and-Spyder)\n",
       " * [Virtual environments](#Virtual-environments)\n",
       " * [Download [Cygwin Terminal](https://cygwin.com/install.html) (Windows users)](#Download-[Cygwin-Terminal](https://cygwin.com/install.html)-(Windows-users))\n",
       " * [Terminal Walkthrough](#Terminal-Walkthrough)\n",
       " * [Installing libraries](#Installing-libraries)\n",
       " * [Testing Python](#Testing-Python)\n",
       " * [Testing Jupyter Notebook](#Testing-Jupyter-Notebook)"
      ],
      "text/plain": [
       "<IPython.core.display.Markdown object>"
      ]
     },
     "metadata": {},
     "output_type": "display_data"
    }
   ],
   "source": [
    "from shared import display_unit_toc\n",
    "display_unit_toc('notebook.ipynb')"
   ]
  },
  {
   "cell_type": "markdown",
   "metadata": {},
   "source": [
    "## Installing Python and Spyder#\n",
    "\n",
    "Install [**Miniconda**](https://conda.io/miniconda.html) (preferred) or [**Anaconda**](https://www.anaconda.com/download/). Anaconda comes with many packages already installed, while Miniconda is a more lightweight version allowing you to install only the packages you want. Here we prefer Miniconda since we'll soon install our own packages.\n",
    "\n",
    "To install packages we'll use the Python package manager **pip** (short for \"pip installs packages\"), which runs on the command line. We will use both Anaconda and pip via the command prompt. While the integrated development environment (IDE) **Spyder** offers a way to install packages, using the command line will allow us more flexibility to manage **virtual environments**, self-contained versions of Python. It also practices skills used in **remote computing**, i.e. doing computations on machines that are far away (often more powerful machines like desktops or supercomputing clusters).\n",
    "\n",
    "Install [Spyder](https://pythonhosted.org/spyder) by opening a command prompt (*Windows*: Anaconda command prompt; *Mac/Linux*: Terminal) and running\n",
    "\n",
    "```bash\n",
    "conda install -c anaconda spyder\n",
    "```\n",
    "\n",
    "Spyder is an Integrated Development Environment (IDE) named so because it brings together several software tools that are useful when programming in Python. The two main tools are\n",
    "\n",
    "* Text Editor (default left pane)\n",
    "* Python / IPython Console (default bottom right pane)\n",
    "\n",
    "There are other helpful tools, too, like a Code Profiler, a Help Viewer, and a Plot Viewer. You can find them under `View -> Panes`."
   ]
  },
  {
   "cell_type": "markdown",
   "metadata": {},
   "source": [
    "## Virtual environments#\n",
    "\n",
    "One of the key benefits to Anaconda is that it manages virtual environments for us. A **virtual environment** is a self-contained copy of Python with its own unique packages installed. Virtual environments are useful for managing multiple projects and making it much easier to reproduce code across different machines.\n",
    "\n",
    "To make a new virtual environment using Anaconda, open a terminal and run the following:\n",
    "\n",
    "```bash\n",
    "conda create -n itec696 python=3.6\n",
    "\n",
    "```\n",
    "This will make a new directory called `itec696` (or whatever name you use) and copy the base Python 3.6 installation within Anaconda there.\n",
    "\n",
    "---\n",
    "\n",
    "Now we'll run a quick experiment to see where the virtual environment lives and test whether it works. Try running the lines below in the terminal.\n",
    "\n",
    "```bash\n",
    "source activate itec696\n",
    "\n",
    "```\n",
    "\n",
    "You should see your command prompt change\n",
    "\n",
    "```bash\n",
    "    user@machine-name$ |\n",
    "```\n",
    "\n",
    "has now become\n",
    "\n",
    "```bash\n",
    "    (itec696) user@machine-name$ |\n",
    "```\n",
    "\n",
    "The extra `(itec696)` signifies the virtual environment is active and commands like `python` and `pip` refer to the copy located in the virtual environment.\n",
    "\n",
    "If you have Windows and your command prompt is slightly different, don't worry. We'll standardize our terminal next. This will give us practice working with a Unix-style command prompt, common to virtually all computers.\n"
   ]
  },
  {
   "cell_type": "markdown",
   "metadata": {},
   "source": [
    "## Download [Cygwin Terminal](https://cygwin.com/install.html) (Windows users)#\n",
    "\n",
    "Run the setup file and choose a mirror. When you get to the package selection prompt, use the search bar at the top to type in the following package names. For each package, search for the matching name, description, and category, then click the package to select it.\n",
    "\n",
    "* *git: Distributed version control system* Category: Devel. For file version control.\n",
    "\n",
    "* *openssh: The OpenSSH server and client programs*. Category: Net. For remote computing. (Optional)\n",
    "\n",
    "* *vim: Text editor* (Optional)"
   ]
  },
  {
   "cell_type": "markdown",
   "metadata": {},
   "source": [
    "## Terminal Walkthrough#\n",
    "\n",
    "At some point, make some symbolic links\n",
    "\n",
    "```bash\n",
    "ln -s /cygdrive/c/Users/$USER/Code Code\n",
    "```\n",
    "\n",
    "We can substitute Code for any folder "
   ]
  },
  {
   "cell_type": "markdown",
   "metadata": {},
   "source": [
    "\n",
    "## Get the Course Repo#\n",
    "\n",
    "Open a Terminal (i.e. Cygwin Terminal on Windows) and run these lines, which navigate to a Documents folder, make a new directory for this course, and clone the repo:\n",
    "\n",
    "```bash\n",
    "cd ~/Code\n",
    "git clone https://github.com/gmf05/ITEC696.git\n",
    "```"
   ]
  },
  {
   "cell_type": "markdown",
   "metadata": {},
   "source": [
    "## Installing libraries#\n",
    "\n",
    "In addition to `python`, Anaconda also comes with a file called `pip`. Pip - short for \"Pip installs packages\" - is a package manager that handles downloading and setting up packages hosted on the [Python Package Index (PyPi)](https://pypi.org). \n",
    "\n",
    "Pip can handle installing packages one-by-one (e.g. `pip install numpy`) or from a text list (e.g. `pip install -r requirements.txt`). Typically we'll use the latter option when setting up a virtual environment. To install the requirements included in the course repo, try running the sequence below.\n",
    "\n",
    "```bash\n",
    "cd ~/Code/ITEC696\n",
    "pip install -r requirements.txt\n",
    "\n",
    "```\n",
    "You should begin to see lots of output printing to the terminal as Pip downloads each package then installs it. This may take several minutes to finish, depending on your internet connection and processor speed. \n",
    "\n",
    "The command `pip freeze` will print the list of currently installed packages. So, if you happen to install a new package and want to generate a revised list of requirements, you can export the output of `pip freeze` to a file like so:\n",
    "\n",
    "```bash\n",
    "pip freeze > requirements_v2.txt\n",
    "```"
   ]
  },
  {
   "cell_type": "markdown",
   "metadata": {},
   "source": [
    "## Testing Python#\n",
    "\n",
    "Let's now ensure our libraries load correctly. You can run the test script in Python from the command line:\n",
    "\n",
    "```bash\n",
    "python test.py\n",
    "```\n",
    "\n",
    "It should generate some output:\n",
    "```bash\n",
    "Starting imports\n",
    "  * Finished Python packages\n",
    "  * Starting local repo import\n",
    "  * Finished local repo import\n",
    "Done!\n",
    "< DATE AND TIME >\n",
    "```\n"
   ]
  },
  {
   "cell_type": "markdown",
   "metadata": {},
   "source": [
    "\n",
    "## Setting PYTHONPATH #\n",
    "\n",
    "If you skip this step altogether, you can still write Python code. You'll just need to comment out any of the Table of Contents cells when running `notebook.ipynb` files.\n",
    "\n",
    "We can always add more folders to the `PYTHONPATH` later by appending them to the variable we just assigned, so long as we separate the folders with a colon `:`, similar to the system `PATH` variable.\n",
    "\n",
    "\n",
    "---\n",
    "\n",
    "\n",
    "### Windows\n",
    "\n",
    "Option 1: `Tools -> Current user environment variables`\n",
    "Add key `PYTHONPATH` with value `C:\\...\\Code\\ITEC696\\repo`. \n",
    "\n",
    "Option 2: Press the Windows key and search \"environment variables\". Click `Set user environment variables`. Then add key `PYTHONPATH` with value `C:\\...\\Code\\ITEC696\\repo`.\n",
    "\n",
    "Additionally, we'll need to add this folder to `PYTHONPATH` through the Spyder GUI under `Tools`.\n",
    "\n",
    "\n",
    "---\n",
    "\n",
    "\n",
    "### Mac/Linux\n",
    "\n",
    "On Unix systems you can run the following, substituting `...` for the written out path on your system. Note the usual home folder shortcut `~` may not work here.\n",
    "\n",
    "\n",
    "```bash\n",
    "echo 'export PATH=\"/.../Code/ITEC696/repo:$PATH\"' >> ~/.bashrc\n",
    "echo 'export PYTHONPATH=\"/.../Code/ITEC696/repo\"' >> ~/.bashrc\n",
    "source ~/.bashrc\n",
    "```\n"
   ]
  },
  {
   "cell_type": "markdown",
   "metadata": {},
   "source": [
    "## Testing Jupyter Notebook#\n",
    "\n",
    "Now that our Python environment setup is complete, we will test one other tool we'll use in this course: Jupyter Notebook. **Jupyter Notebook** is an interactive, browser-based Python interpreter and is *extremely* useful for exporting documents.\n",
    "\n",
    "In your terminal run\n",
    "\n",
    "```bash\n",
    "source activate itec696 # may be optional, depending on system\n",
    "cd ~/Code/ITEC696\n",
    "jupyter notebook\n",
    "```\n",
    "\n",
    "And watch as a browser window opens, beginning in the same folder where you launched. You can now both\n",
    "\n",
    "* Start a new notebook `Untitled.ipynb` by clicking `New -> Python 3` from the dropdown menu in the upper right corner.\n",
    "* Open any of the course notebooks, e.g. `example.ipynb` or `unit0/lab.ipynb`.\n"
   ]
  }
 ],
 "metadata": {
  "anaconda-cloud": {},
  "celltoolbar": "Edit Metadata",
  "kernelspec": {
   "display_name": "Python 3",
   "language": "python",
   "name": "python3"
  },
  "language_info": {
   "codemirror_mode": {
    "name": "ipython",
    "version": 3
   },
   "file_extension": ".py",
   "mimetype": "text/x-python",
   "name": "python",
   "nbconvert_exporter": "python",
   "pygments_lexer": "ipython3",
   "version": "3.6.2"
  },
  "nbpresent": {
   "slides": {},
   "themes": {}
  }
 },
 "nbformat": 4,
 "nbformat_minor": 1
}
