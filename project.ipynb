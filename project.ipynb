{
 "cells": [
  {
   "cell_type": "markdown",
   "metadata": {},
   "source": [
    "## Project Guidelines#\n",
    "\n",
    "### Goal\n",
    "\n",
    "Build a Jupyter Notebook that analyzes an interesting data set and demonstrates understanding of at least one of the following packages from ITEC 696: `numpy`, `pandas`, `matplotlib`, `statsmodels/sklearn`, `requests/BeautifulSoup/selenium`.\n",
    "\n",
    "### Possible Approaches\n",
    "\n",
    "Option 1. Scrape data from the web. Using `requests` (if data can be pulled entirely in text form) or `selenium` (if data require browser rendering). Do some summary statistics, e.g. using `numpy` and/or `pandas`, and/or visualize the data using `matplotlib`.\n",
    "\n",
    "Option 2. Download data from the web (e.g. from one of the [links here](https://github.com/awesomedata/awesome-public-datasets)). Load your data in `pandas`. Create several data visualizations using `matplotlib` and/or summary stats with `numpy` and/or fit statistical models using `statsmodels/sklearn`.\n",
    "\n",
    "Note the amount of analysis and visualization you ultimately do will depends on whether you choose Option 1 or Option 2. If your code is more data-collection focused, then your analysis will be lighter; if you download data, your code will be focused more on analysis and visualization.\n",
    "\n",
    "### Format\n",
    "Your Jupyter Notebook should have the following sections. Each one will be  a Markdown header, i.e. have leading hashtag/s `##...`, and have roughly 1-2 paragraphs of text in addition to your Python code:\n",
    "\n",
    "* **Introduction**\n",
    "Which data set are you analyzing? Where does it come from and why is it scientifically interesting?\n",
    "\n",
    "\n",
    "* **Methods**\n",
    "What was your approach to acquiring, visualizing, and/or analyzing the data? Which packages did you use? Did you learn anything interesting in the process? If you scraped data, here's where you can include any relevant code. Note for your submitted copy: \n",
    "\n",
    "\n",
    "* **Results**\n",
    "Regardless of how you acquired your data, show some plots and/or stats and/or models.\n",
    "\n",
    "Each section should contain relevant code in Python code cells. \n",
    "\n",
    "The writing is meant to tell a story around your code. \n",
    "**Your Python code is the key component of the project**.\n",
    "\n",
    "### Support\n",
    "\n",
    "I'm happy to help offer feedback and debug code. In particular, for people ambitious enough to scrape data, I'm happy to help with regular expressions for pulling data out of structured text, if you find basic `str.replace()` and `str.split()` aren't working well enough for your text patterns. Feel free to reach me on my American U email at `gfiddy`.\n",
    "\n"
   ]
  }
 ],
 "metadata": {
  "kernelspec": {
   "display_name": "Python 3",
   "language": "python",
   "name": "python3"
  },
  "language_info": {
   "codemirror_mode": {
    "name": "ipython",
    "version": 3
   },
   "file_extension": ".py",
   "mimetype": "text/x-python",
   "name": "python",
   "nbconvert_exporter": "python",
   "pygments_lexer": "ipython3",
   "version": "3.6.2"
  }
 },
 "nbformat": 4,
 "nbformat_minor": 2
}
