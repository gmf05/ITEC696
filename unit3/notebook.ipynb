{
 "cells": [
  {
   "cell_type": "markdown",
   "metadata": {},
   "source": [
    "# UNIT X: UNIT NAME#"
   ]
  },
  {
   "cell_type": "markdown",
   "metadata": {
    "nbpresent": {
     "id": "ef60008f-126a-4873-bcb6-4d503c4a65f5"
    }
   },
   "source": [
    "## 1. Section 1#\n",
    "\n",
    "### Subsection 1#\n",
    "Subsection text. Subsection text with `inline code` and $\\LaTeX, ~~ y=mx+b$. This is more text.\n",
    "\n",
    "### Subsection 2#\n",
    "\n",
    "\n",
    "Python Code\n",
    "```python\n",
    "\n",
    "print('asdf')\n",
    "\n",
    "```\n",
    "Generic Code\n",
    "```\n",
    "print('asdf')\n",
    "```\n",
    "\n",
    "List\n",
    "* A\n",
    "* B\n",
    "\n",
    "LaTeX Code\n",
    "#### Formula 1#\n",
    "$$ y = mx + b $$\n",
    "\n"
   ]
  },
  {
   "cell_type": "code",
   "execution_count": 9,
   "metadata": {
    "collapsed": false
   },
   "outputs": [],
   "source": [
    "# Preliminaries\n",
    "from unit1.code import *\n"
   ]
  },
  {
   "cell_type": "markdown",
   "metadata": {},
   "source": [
    "\n",
    "## 2. Section 2#\n",
    "\n",
    "### Subsection 1#\n",
    "\n",
    "### Subsection 2#\n"
   ]
  },
  {
   "cell_type": "markdown",
   "metadata": {},
   "source": [
    "## 3. Section 3#\n",
    "\n",
    "### Subsection 1#\n",
    "\n",
    "### Subsection 2#\n"
   ]
  },
  {
   "cell_type": "markdown",
   "metadata": {},
   "source": [
    "# 4. Section 4#\n",
    "\n",
    "### Subsection 1#\n",
    "\n",
    "### Subsection 2#\n"
   ]
  },
  {
   "cell_type": "markdown",
   "metadata": {},
   "source": [
    "\n",
    "# Section 5#\n",
    "\n",
    "\n",
    "Python Code\n",
    "```python\n",
    "\n",
    "print('asdf')\n",
    "\n",
    "```\n",
    "Generic Code\n",
    "```\n",
    "print('asdf')\n",
    "```\n",
    "\n",
    "List\n",
    "* A\n",
    "* B\n",
    "\n",
    "LaTeX Code\n",
    "$$ y = mx + b $$\n"
   ]
  },
  {
   "cell_type": "code",
   "execution_count": 10,
   "metadata": {
    "collapsed": true,
    "type": "GLOBAL"
   },
   "outputs": [],
   "source": [
    "# Global Python Code"
   ]
  },
  {
   "cell_type": "code",
   "execution_count": 11,
   "metadata": {
    "collapsed": false,
    "type": "DEMO"
   },
   "outputs": [
    {
     "name": "stdout",
     "output_type": "stream",
     "text": [
      "asdf\n"
     ]
    }
   ],
   "source": [
    "# Demo\n",
    "# Demo Python Code\n",
    "print('asdf')\n",
    "\n",
    "# Demo"
   ]
  },
  {
   "cell_type": "code",
   "execution_count": null,
   "metadata": {
    "collapsed": true
   },
   "outputs": [],
   "source": []
  }
 ],
 "metadata": {
  "anaconda-cloud": {},
  "celltoolbar": "Edit Metadata",
  "kernelspec": {
   "display_name": "Python [default]",
   "language": "python",
   "name": "python3"
  },
  "language_info": {
   "codemirror_mode": {
    "name": "ipython",
    "version": 3
   },
   "file_extension": ".py",
   "mimetype": "text/x-python",
   "name": "python",
   "nbconvert_exporter": "python",
   "pygments_lexer": "ipython3",
   "version": "3.5.2"
  },
  "nbpresent": {
   "slides": {},
   "themes": {}
  }
 },
 "nbformat": 4,
 "nbformat_minor": 1
}
