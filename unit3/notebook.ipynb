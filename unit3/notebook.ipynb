{
 "cells": [
  {
   "cell_type": "markdown",
   "metadata": {},
   "source": [
    "# Unit 3: Algorithms in Python#\n",
    "\n",
    "\n"
   ]
  },
  {
   "cell_type": "code",
   "execution_count": 1,
   "metadata": {
    "hide_input": true,
    "scrolled": true,
    "type": "DEMO"
   },
   "outputs": [
    {
     "data": {
      "text/markdown": [
       "# Table of Contents"
      ],
      "text/plain": [
       "<IPython.core.display.Markdown object>"
      ]
     },
     "metadata": {},
     "output_type": "display_data"
    },
    {
     "data": {
      "text/markdown": [
       "* [Unit 3: Algorithms in Python](#Unit-3:-Algorithms-in-Python)\n",
       " * [Functions](#Functions)\n",
       " * [`if/elif/else` Blocks](#`if/elif/else`-Blocks)\n",
       " * [`with` ... `as` ...](#`with`-...-`as`-...)\n",
       " * [Loops: `for` and `while`](#Loops:-`for`-and-`while`)\n",
       " * [List Comprehensions](#List-Comprehensions)\n",
       " * [`try`/`except` blocks](#`try`/`except`-blocks)\n",
       " * [Debugging](#Debugging)"
      ],
      "text/plain": [
       "<IPython.core.display.Markdown object>"
      ]
     },
     "metadata": {},
     "output_type": "display_data"
    }
   ],
   "source": [
    "from shared import display_unit_toc\n",
    "display_unit_toc('notebook.ipynb')"
   ]
  },
  {
   "cell_type": "markdown",
   "metadata": {},
   "source": [
    "## Functions#\n",
    "\n",
    "Functions are defined with `def` as we saw in Unit 2.\n",
    "\n"
   ]
  },
  {
   "cell_type": "code",
   "execution_count": 2,
   "metadata": {},
   "outputs": [],
   "source": [
    "import requests\n",
    "def get_html_from_url(url):\n",
    "    return requests.get(url).text\n",
    "\n",
    "bbref_url = 'https://www.basketball-reference.com/leagues/NBA_2018.html'\n",
    "html = get_html_from_url(bbref_url)\n",
    "\n"
   ]
  },
  {
   "cell_type": "markdown",
   "metadata": {},
   "source": [
    "## `if/elif/else` Blocks#\n",
    "\n",
    "`if/elif/else` blocks work as described in Unit 2 and require proper indentation.\n"
   ]
  },
  {
   "cell_type": "markdown",
   "metadata": {},
   "source": [
    "## `with` ... `as` ...#\n",
    "\n",
    "We can open external files in Python for reading or writing by using the `open()` function.\n"
   ]
  },
  {
   "cell_type": "code",
   "execution_count": 3,
   "metadata": {},
   "outputs": [],
   "source": [
    "with open('nba_season_2018.html', 'w') as f:\n",
    "    f.write(html)\n"
   ]
  },
  {
   "cell_type": "markdown",
   "metadata": {},
   "source": [
    "## Loops: `for` and `while` #\n",
    "\n",
    "When we want to repeat a sequence of steps multiple times, we can use loops.\n",
    "\n",
    "A `for` loop runs a fixed number of times, typically specified by `range()`:\n",
    "\n"
   ]
  },
  {
   "cell_type": "code",
   "execution_count": 4,
   "metadata": {},
   "outputs": [
    {
     "name": "stdout",
     "output_type": "stream",
     "text": [
      "          Eastern Conference   W   L   W/L%    GB   PS/G   PA/G   SRS\n",
      "0   Cleveland Cavaliers* (1)  57  25  0.695     —  104.3   98.3  5.45\n",
      "1       Toronto Raptors* (2)  56  26  0.683   1.0  102.7   98.2  4.08\n",
      "2            Miami Heat* (3)  48  34  0.585   9.0  100.0   98.4  1.50\n",
      "3         Atlanta Hawks* (4)  48  34  0.585   9.0  102.8   99.2  3.49\n",
      "4        Boston Celtics* (5)  48  34  0.585   9.0  105.7  102.5  2.84\n",
      "5     Charlotte Hornets* (6)  48  34  0.585   9.0  103.4  100.7  2.36\n",
      "6        Indiana Pacers* (7)  45  37  0.549  12.0  102.2  100.5  1.62\n",
      "7       Detroit Pistons* (8)  44  38  0.537  13.0  102.0  101.4  0.43\n",
      "8          Chicago Bulls (9)  42  40  0.512  15.0  101.6  103.1 -1.46\n",
      "9    Washington Wizards (10)  41  41  0.500  16.0  104.1  104.6 -0.50\n",
      "10        Orlando Magic (11)  35  47  0.427  22.0  102.1  103.7 -1.68\n",
      "11      Milwaukee Bucks (12)  33  49  0.402  24.0   99.0  103.2 -3.98\n",
      "12      New York Knicks (13)  32  50  0.390  25.0   98.4  101.1 -2.74\n",
      "13        Brooklyn Nets (14)  21  61  0.256  36.0   98.6  106.0 -7.12\n",
      "14   Philadelphia 76ers (15)  10  72  0.122  47.0   97.4  107.6 -9.92\n",
      "          Eastern Conference   W   L   W/L%    GB   PS/G   PA/G   SRS\n",
      "0        Boston Celtics* (1)  53  29  0.646     —  108.0  105.4  2.25\n",
      "1   Cleveland Cavaliers* (2)  51  31  0.622   2.0  110.3  107.2  2.87\n",
      "2       Toronto Raptors* (3)  51  31  0.622   2.0  106.9  102.6  3.65\n",
      "3    Washington Wizards* (4)  49  33  0.598   4.0  109.2  107.4  1.36\n",
      "4         Atlanta Hawks* (5)  43  39  0.524  10.0  103.2  104.0 -1.23\n",
      "5       Milwaukee Bucks* (6)  42  40  0.512  11.0  103.6  103.8 -0.45\n",
      "6        Indiana Pacers* (7)  42  40  0.512  11.0  105.1  105.3 -0.64\n",
      "7         Chicago Bulls* (8)  41  41  0.500  12.0  102.9  102.4  0.03\n",
      "8             Miami Heat (9)  41  41  0.500  12.0  103.2  102.1  0.77\n",
      "9       Detroit Pistons (10)  37  45  0.451  16.0  101.3  102.5 -1.29\n",
      "10    Charlotte Hornets (11)  36  46  0.439  17.0  104.9  104.7 -0.07\n",
      "11      New York Knicks (12)  31  51  0.378  22.0  104.3  108.0 -3.87\n",
      "12        Orlando Magic (13)  29  53  0.354  24.0  101.1  107.6 -6.61\n",
      "13   Philadelphia 76ers (14)  28  54  0.341  25.0  102.4  108.1 -5.83\n",
      "14        Brooklyn Nets (15)  20  62  0.244  33.0  105.8  112.5 -6.74\n",
      "          Eastern Conference   W   L   W/L%    GB   PS/G   PA/G   SRS\n",
      "0       Toronto Raptors* (1)  59  23  0.720     —  111.7  103.9  7.29\n",
      "1        Boston Celtics* (2)  55  27  0.671   4.0  104.0  100.4  3.23\n",
      "2    Philadelphia 76ers* (3)  52  30  0.634   7.0  109.8  105.3  4.30\n",
      "3   Cleveland Cavaliers* (4)  50  32  0.610   9.0  110.9  109.9  0.59\n",
      "4        Indiana Pacers* (5)  48  34  0.585  11.0  105.6  104.2  1.18\n",
      "5            Miami Heat* (6)  44  38  0.537  15.0  103.4  102.9  0.15\n",
      "6       Milwaukee Bucks* (7)  44  38  0.537  15.0  106.5  106.8 -0.45\n",
      "7    Washington Wizards* (8)  43  39  0.524  16.0  106.6  106.0  0.53\n",
      "8        Detroit Pistons (9)  39  43  0.476  20.0  103.8  103.9 -0.26\n",
      "9     Charlotte Hornets (10)  36  46  0.439  23.0  108.2  108.0  0.07\n",
      "10      New York Knicks (11)  29  53  0.354  30.0  104.5  108.0 -3.53\n",
      "11        Brooklyn Nets (12)  28  54  0.341  31.0  106.6  110.3 -3.67\n",
      "12        Chicago Bulls (13)  27  55  0.329  32.0  102.9  110.0 -6.84\n",
      "13        Orlando Magic (14)  25  57  0.305  34.0  103.4  108.2 -4.92\n",
      "14        Atlanta Hawks (15)  24  58  0.293  35.0  103.4  108.8 -5.30\n"
     ]
    }
   ],
   "source": [
    "import pandas as pd\n",
    "\n",
    "for season in range(2016, 2019):\n",
    "    url = 'https://www.basketball-reference.com/leagues/NBA_{}.html'.format(season)\n",
    "    html = requests.get(url).text\n",
    "    df = pd.read_html(html)\n",
    "    print(df[0])"
   ]
  },
  {
   "cell_type": "markdown",
   "metadata": {},
   "source": [
    "`while` loops run until their condition becomes `False`. As a result, we have to manually ensure they eventually trigger a `False` condition or else we can start an infinite loop. As a last resort, we can add a `break` command inside the loop that gets triggered if, for example, the loop runs too many times. In general, we'll try to avoid `while` loops here."
   ]
  },
  {
   "cell_type": "markdown",
   "metadata": {},
   "source": [
    "## List Comprehensions#\n"
   ]
  },
  {
   "cell_type": "markdown",
   "metadata": {},
   "source": [
    "Perhaps the most useful feature in Python is the **list comprehension**, a list created with `for` loop style syntax.\n"
   ]
  },
  {
   "cell_type": "code",
   "execution_count": 5,
   "metadata": {},
   "outputs": [
    {
     "data": {
      "text/plain": [
       "['Toronto',\n",
       " 'Boston',\n",
       " 'Philadelphia',\n",
       " 'Cleveland',\n",
       " 'Indiana',\n",
       " 'Miami',\n",
       " 'Milwaukee',\n",
       " 'Washington',\n",
       " 'Detroit',\n",
       " 'Charlotte',\n",
       " 'New',\n",
       " 'Brooklyn',\n",
       " 'Chicago',\n",
       " 'Orlando',\n",
       " 'Atlanta']"
      ]
     },
     "execution_count": 5,
     "metadata": {},
     "output_type": "execute_result"
    }
   ],
   "source": [
    "east_standings = pd.read_html('https://www.basketball-reference.com/leagues/NBA_2018.html')[0]\n",
    "east_standings.rename(columns={'Eastern Conference': 'Team'}, inplace=True)\n",
    "\n",
    "cities = [t.Team.split(' ')[0] for i, t in east_standings.iterrows()]\n",
    "cities\n"
   ]
  },
  {
   "cell_type": "markdown",
   "metadata": {},
   "source": [
    "The interpreter does the leading operation, `t.Team.split()` for each step of the `for` loop written afterwards, i.e. for each row of the data frame. This conveniently allows for operations over an entire list/set to be saved in vector form."
   ]
  },
  {
   "cell_type": "markdown",
   "metadata": {},
   "source": [
    "## `try`/`except` blocks#\n",
    "\n",
    "If we know our code might encounter an error, we can provide an alternative path with a `try/except` block.\n",
    "\n",
    "The `try/except` block has two sub-blocks:\n",
    "* The `try` block runs first, until it encounters an error\n",
    "* The `except` block runs if and only if an error happens inside the `try` block\n"
   ]
  },
  {
   "cell_type": "code",
   "execution_count": 6,
   "metadata": {},
   "outputs": [
    {
     "name": "stdout",
     "output_type": "stream",
     "text": [
      "Shame!\n"
     ]
    }
   ],
   "source": [
    "try:\n",
    "    2 / 0\n",
    "except:\n",
    "    print('Shame!')\n",
    "    "
   ]
  },
  {
   "cell_type": "markdown",
   "metadata": {},
   "source": [
    "## Debugging#\n",
    "\n",
    "The `pdb` module, or Python debugger, allows us to set break points in code using `pdb.set_trace()`. It's another way to deal with finding and diagnosing errors.\n",
    "\n",
    "To use the debugger, import it and run the function anywhere you want to stop within your code. While the break point is set, you can access variables as they exist at that moment. This is useful when testing our code - or if it's exhibiting unexpected behavior. We add break points at multiple points around the error, then print variables that may be contributing to the error. Hopefully, seeing our code run in action will allow us enough interaction to diagnose the behavior.  \n",
    "\n",
    "At each break point type `continue` to move on.\n"
   ]
  },
  {
   "cell_type": "code",
   "execution_count": 7,
   "metadata": {},
   "outputs": [
    {
     "name": "stdout",
     "output_type": "stream",
     "text": [
      "--Call--\n",
      "> //anaconda/envs/itec696/lib/python3.6/site-packages/IPython/core/displayhook.py(247)__call__()\n",
      "-> def __call__(self, result=None):\n",
      "(Pdb) continue\n"
     ]
    }
   ],
   "source": [
    "import pdb\n",
    "pdb.set_trace()"
   ]
  }
 ],
 "metadata": {
  "anaconda-cloud": {},
  "celltoolbar": "Edit Metadata",
  "kernelspec": {
   "display_name": "Python 3",
   "language": "python",
   "name": "python3"
  },
  "language_info": {
   "codemirror_mode": {
    "name": "ipython",
    "version": 3
   },
   "file_extension": ".py",
   "mimetype": "text/x-python",
   "name": "python",
   "nbconvert_exporter": "python",
   "pygments_lexer": "ipython3",
   "version": "3.6.2"
  },
  "nbpresent": {
   "slides": {},
   "themes": {}
  }
 },
 "nbformat": 4,
 "nbformat_minor": 1
}
