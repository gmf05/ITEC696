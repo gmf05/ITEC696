{
 "cells": [
  {
   "cell_type": "markdown",
   "metadata": {},
   "source": [
    "# Unit 3 Lab#"
   ]
  },
  {
   "cell_type": "markdown",
   "metadata": {
    "collapsed": true
   },
   "source": [
    "Before starting, save a copy of this file using the terminal. Work on your modified copy so that you don't conflict with the repo.\n",
    "\n",
    "```bash\n",
    "cp lab1.ipynb lab1_ABC.ipynb     # replace ABC with your initials \n",
    "```\n"
   ]
  },
  {
   "cell_type": "markdown",
   "metadata": {},
   "source": [
    "The package `BeautifulSoup`, imported below, is great for parsing HTML tags."
   ]
  },
  {
   "cell_type": "markdown",
   "metadata": {},
   "source": [
    "import requests\n",
    "from bs4 import BeautifulSoup\n",
    "\n",
    "r = requests.get('https://www.basketball-reference.com/leagues/NBA_2018.html')\n",
    "soup = BeautifulSoup(r.content)\n"
   ]
  },
  {
   "cell_type": "code",
   "execution_count": 23,
   "metadata": {},
   "outputs": [
    {
     "data": {
      "text/plain": [
       "<th class=\"left \" data-stat=\"team_name\" scope=\"row\"><a href=\"/teams/PHI/2018.html\">Philadelphia 76ers</a>* <span class=\"seed\">(3) </span></th>"
      ]
     },
     "execution_count": 23,
     "metadata": {},
     "output_type": "execute_result"
    }
   ],
   "source": [
    "# Get the first table, the fourth row, and the first header\n",
    "soup.find_all('table')[0].find_all('tr')[3].find_all('th')[0]"
   ]
  },
  {
   "cell_type": "markdown",
   "metadata": {
    "collapsed": true
   },
   "source": [
    "Try using `BeautifulSoup` to parse a web site of interest and organize the data into lists and/or data frames.\n",
    "\n",
    "We've seen that `pandas` can do most of this already with `pd.read_html()`, however, it's good to practice implementing the code to make sure you understand how it works."
   ]
  },
  {
   "cell_type": "code",
   "execution_count": null,
   "metadata": {
    "collapsed": true
   },
   "outputs": [],
   "source": []
  }
 ],
 "metadata": {
  "anaconda-cloud": {},
  "kernelspec": {
   "display_name": "Python 3",
   "language": "python",
   "name": "python3"
  },
  "language_info": {
   "codemirror_mode": {
    "name": "ipython",
    "version": 3
   },
   "file_extension": ".py",
   "mimetype": "text/x-python",
   "name": "python",
   "nbconvert_exporter": "python",
   "pygments_lexer": "ipython3",
   "version": "3.6.2"
  }
 },
 "nbformat": 4,
 "nbformat_minor": 1
}
