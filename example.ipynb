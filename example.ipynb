{
 "cells": [
  {
   "cell_type": "markdown",
   "metadata": {},
   "source": [
    "# Example Notebook#"
   ]
  },
  {
   "cell_type": "code",
   "execution_count": 24,
   "metadata": {
    "hide_input": true,
    "type": "DEMO"
   },
   "outputs": [
    {
     "data": {
      "text/markdown": [
       "# Table of Contents"
      ],
      "text/plain": [
       "<IPython.core.display.Markdown object>"
      ]
     },
     "metadata": {},
     "output_type": "display_data"
    },
    {
     "data": {
      "text/markdown": [
       "* [Example Notebook](#Example-Notebook)\n",
       " * [Diveristy of Languages](#Diveristy-of-Languages)\n",
       " * [Another Section](#Another-Section)"
      ],
      "text/plain": [
       "<IPython.core.display.Markdown object>"
      ]
     },
     "metadata": {},
     "output_type": "display_data"
    }
   ],
   "source": [
    "from shared import display_unit_toc    # Python code\n",
    "display_unit_toc('example.ipynb')"
   ]
  },
  {
   "cell_type": "markdown",
   "metadata": {},
   "source": [
    "If you want to edit this notebook or copy examples, consider copying a version then editing the copy:\n",
    "```bash\n",
    "cp example.ipynb my_new_file.ipynb\n",
    "```\n",
    "This is especially true if, e.g., you want to run the document and the Table of Contents doesn't work for you."
   ]
  },
  {
   "cell_type": "markdown",
   "metadata": {
    "nbpresent": {
     "id": "ef60008f-126a-4873-bcb6-4d503c4a65f5"
    }
   },
   "source": [
    "## Diveristy of Languages#\n",
    "\n",
    "### Subsection \n",
    "This is plain text entered into a [Markdown](https://en.wikipedia.org/wiki/Markdown) cell in Jupyter Notebook. Markdown cells convert [Markdown](https://en.wikipedia.org/wiki/Markdown), which is like plain text, into HTML, which has lots of tags and is more encoded. The text handling in Jupyter, though, is even more general, with `inline code` and [$\\LaTeX$](https://en.wikipedia.org/wiki/LaTeX) like $\\hat{\\beta}=(X^TX)^{-1}X^Ty$. [LaTeX](https://en.wikipedia.org/wiki/LaTeX) is popular for publishers displaying lots of equations.\n",
    "\n",
    "### Another Subsection\n",
    "\n",
    "\n",
    "Python Code\n",
    "```python\n",
    "import numpy as np\n",
    "print('asdf')\n",
    "\n",
    "```\n",
    "\n",
    "Command prompt code\n",
    "```bash\n",
    "print('asdf')\n",
    "cd ~/Code\n",
    "```\n",
    "\n",
    "Generic Code\n",
    "```\n",
    "print('asdf')\n",
    "import numpy as np\n",
    "```\n",
    "\n",
    "\n",
    "List\n",
    "* A\n",
    "* B\n",
    "\n",
    "LaTeX Code $y = X\\beta + \\epsilon $\n",
    "$$ y = X\\beta + \\epsilon $$\n",
    "\n"
   ]
  },
  {
   "cell_type": "code",
   "execution_count": 20,
   "metadata": {},
   "outputs": [
    {
     "data": {
      "text/plain": [
       "array([-1.14210236, -0.13048715,  0.2326125 ,  1.43715175,  0.29257945,\n",
       "       -0.05485948, -0.28718124, -1.30685798, -1.10582026, -0.38046825,\n",
       "        0.88610423, -0.74871696, -1.19632821, -0.74738822, -1.27038026,\n",
       "       -0.61336117,  0.95234357, -0.64157953,  0.54362288,  1.33805199])"
      ]
     },
     "execution_count": 20,
     "metadata": {},
     "output_type": "execute_result"
    }
   ],
   "source": [
    "import numpy as np\n",
    "x = np.random.randn(5000)\n",
    "x[:20]"
   ]
  },
  {
   "cell_type": "code",
   "execution_count": 21,
   "metadata": {},
   "outputs": [
    {
     "data": {
      "image/png": "[encoded data removed]",
      "text/plain": [
       "<Figure size 432x288 with 1 Axes>"
      ]
     },
     "metadata": {
      "needs_background": "light"
     },
     "output_type": "display_data"
    }
   ],
   "source": [
    "import matplotlib.pyplot as plt\n",
    "%matplotlib inline\n",
    "_ = plt.hist(x, bins=30)"
   ]
  },
  {
   "cell_type": "markdown",
   "metadata": {},
   "source": [
    "## Another Section#\n",
    "\n",
    "### Subsection\n",
    "\n",
    "Text"
   ]
  }
 ],
 "metadata": {
  "anaconda-cloud": {},
  "kernelspec": {
   "display_name": "Python 3",
   "language": "python",
   "name": "python3"
  },
  "language_info": {
   "codemirror_mode": {
    "name": "ipython",
    "version": 3
   },
   "file_extension": ".py",
   "mimetype": "text/x-python",
   "name": "python",
   "nbconvert_exporter": "python",
   "pygments_lexer": "ipython3",
   "version": "3.6.2"
  },
  "nbpresent": {
   "slides": {},
   "themes": {}
  }
 },
 "nbformat": 4,
 "nbformat_minor": 1
}
