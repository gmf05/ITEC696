{
 "cells": [
  {
   "cell_type": "markdown",
   "metadata": {},
   "source": [
    "# Unit 1 Lab#"
   ]
  },
  {
   "cell_type": "markdown",
   "metadata": {},
   "source": [
    "Before starting, save a copy of this file using the terminal. Work on your modified copy so that you don't conflict with the repo.\n",
    "\n",
    "```bash\n",
    "cp lab1.ipynb lab1_ABC.ipynb     # replace ABC with your initials \n",
    "```\n",
    "\n",
    "\n"
   ]
  },
  {
   "cell_type": "markdown",
   "metadata": {
    "collapsed": true
   },
   "source": [
    "Now that we've installed Python, we'll do a few experiments to explore how it works.\n",
    "\n",
    "Open a new terminal, activate your virtual environment, and start Python:\n",
    "```bash\n",
    "source activate itec696\n",
    "python\n",
    "```\n",
    "\n",
    "You should see output similar to\n",
    "\n",
    "```\n",
    "Python 3.6 |Anaconda custom (x86_64)| (default, Jul  2 2016, 17:52:12) \n",
    "Type \"help\", \"copyright\", \"credits\" or \"license\" for more information.\n",
    ">>> |\n",
    "```\n",
    "\n",
    "Like the terminal, this prompt acts like a dynamic calculator. However, it's rather bare compared to IPython. Leave this prompt by typing `exit()` or `CTRL+D`.\n",
    "\n",
    "Now try opening `ipython` and notice the different prompt: IPython is an enhanced, interactive Python. It has color, tab completion, and lots more nice features.\n",
    "\n",
    "Try, for example adding some numbers together:"
   ]
  },
  {
   "cell_type": "code",
   "execution_count": 7,
   "metadata": {},
   "outputs": [
    {
     "data": {
      "text/plain": [
       "4"
      ]
     },
     "execution_count": 7,
     "metadata": {},
     "output_type": "execute_result"
    }
   ],
   "source": [
    "2+2"
   ]
  },
  {
   "cell_type": "markdown",
   "metadata": {},
   "source": [
    "There are lots of standard mathematical operations: `+, -, *, /, >, <`. Try some computations on your own, including some of the ones below.\n",
    "\n",
    "```\n",
    "-23 * 2\n",
    "100 / 4\n",
    "100 / 3\n",
    "20 > 10\n",
    "3 < -10\n",
    "```\n",
    "\n",
    "What about powers? Try"
   ]
  },
  {
   "cell_type": "code",
   "execution_count": 9,
   "metadata": {},
   "outputs": [
    {
     "data": {
      "text/plain": [
       "8"
      ]
     },
     "execution_count": 9,
     "metadata": {},
     "output_type": "execute_result"
    }
   ],
   "source": [
    "10^2"
   ]
  },
  {
   "cell_type": "markdown",
   "metadata": {},
   "source": [
    "Hmm...This is clearly not the power operation. It turns out the caret `^` is a different operation in Python called [bitwise XOR](https://en.wikipedia.org/wiki/Bitwise_operation#XOR).\n",
    "\n",
    "Power in Python is computed with double asterisk `**`"
   ]
  },
  {
   "cell_type": "code",
   "execution_count": 10,
   "metadata": {},
   "outputs": [
    {
     "data": {
      "text/plain": [
       "100"
      ]
     },
     "execution_count": 10,
     "metadata": {},
     "output_type": "execute_result"
    }
   ],
   "source": [
    "10**2"
   ]
  },
  {
   "cell_type": "markdown",
   "metadata": {},
   "source": [
    "There are also *functions* in Python, which transform their inputs to produce outputs. In fact, the arithmetic operations `+,-,*,/` are all functions too, just ones with special syntax!\n",
    "\n",
    "Similar to the math notation $f(x)$, where the function $f$ transforms the input $x$, we apply a function in Python by typing `f(x)`, using the function name `f` and the parentheses `( )` to group the input/s.\n",
    "\n",
    "Try, for instance, the `round` function:"
   ]
  },
  {
   "cell_type": "code",
   "execution_count": 14,
   "metadata": {},
   "outputs": [
    {
     "data": {
      "text/plain": [
       "43"
      ]
     },
     "execution_count": 14,
     "metadata": {},
     "output_type": "execute_result"
    }
   ],
   "source": [
    "round(42.7)"
   ]
  },
  {
   "cell_type": "markdown",
   "metadata": {},
   "source": [
    "What about other mathematical functions like `sin, cos, exp, log`? \n",
    "\n",
    "Try"
   ]
  },
  {
   "cell_type": "code",
   "execution_count": 11,
   "metadata": {},
   "outputs": [
    {
     "ename": "NameError",
     "evalue": "name 'exp' is not defined",
     "output_type": "error",
     "traceback": [
      "\u001b[0;31m---------------------------------------------------------------------------\u001b[0m",
      "\u001b[0;31mNameError\u001b[0m                                 Traceback (most recent call last)",
      "\u001b[0;32m<ipython-input-11-2f1428f27603>\u001b[0m in \u001b[0;36m<module>\u001b[0;34m()\u001b[0m\n\u001b[0;32m----> 1\u001b[0;31m \u001b[0mexp\u001b[0m\u001b[0;34m(\u001b[0m\u001b[0;36m2\u001b[0m\u001b[0;34m)\u001b[0m\u001b[0;34m\u001b[0m\u001b[0m\n\u001b[0m",
      "\u001b[0;31mNameError\u001b[0m: name 'exp' is not defined"
     ]
    }
   ],
   "source": [
    "exp(2)"
   ]
  },
  {
   "cell_type": "markdown",
   "metadata": {},
   "source": [
    "Agh, our first bug! Python doesn't recognize `exp`.\n",
    "\n",
    "We need to get `exp` and other math functions from a **package**, an external folder full of code:"
   ]
  },
  {
   "cell_type": "code",
   "execution_count": 12,
   "metadata": {},
   "outputs": [
    {
     "data": {
      "text/plain": [
       "7.38905609893065"
      ]
     },
     "execution_count": 12,
     "metadata": {},
     "output_type": "execute_result"
    }
   ],
   "source": [
    "import math\n",
    "math.exp(2)"
   ]
  },
  {
   "cell_type": "markdown",
   "metadata": {},
   "source": [
    "We can also learn about the math package using `?math` and tab completion. Try typing `math.` then hit the `TAB` key. Notice how the contents of the package shows up in an overlaid window. And, as an added bonus, as you begin typing a function name, like `math.facto`, you can hit `TAB` again to auto-complete if there's only one possible match.\n",
    "\n",
    "Finally, we can assign variables using `=`:"
   ]
  },
  {
   "cell_type": "code",
   "execution_count": 15,
   "metadata": {},
   "outputs": [
    {
     "data": {
      "text/plain": [
       "2.0"
      ]
     },
     "execution_count": 15,
     "metadata": {},
     "output_type": "execute_result"
    }
   ],
   "source": [
    "x = 100\n",
    "math.log10(x)"
   ]
  }
 ],
 "metadata": {
  "anaconda-cloud": {},
  "kernelspec": {
   "display_name": "Python 3",
   "language": "python",
   "name": "python3"
  },
  "language_info": {
   "codemirror_mode": {
    "name": "ipython",
    "version": 3
   },
   "file_extension": ".py",
   "mimetype": "text/x-python",
   "name": "python",
   "nbconvert_exporter": "python",
   "pygments_lexer": "ipython3",
   "version": "3.6.2"
  }
 },
 "nbformat": 4,
 "nbformat_minor": 1
}
