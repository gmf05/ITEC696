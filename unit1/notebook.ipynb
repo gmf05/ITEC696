{
 "cells": [
  {
   "cell_type": "markdown",
   "metadata": {},
   "source": [
    "# UNIT X: UNIT NAME#"
   ]
  },
  {
   "cell_type": "markdown",
   "metadata": {},
   "source": [
    "\n",
    "# Setting Up (Locally)\n",
    "\n",
    "## 1. Download [Cygwin](https://cygwin.com/install.html) (Windows users): \n",
    "Run the setup file and choose a mirror. Then find and double click the following additional Cygwin packages to install them:\n",
    "\n",
    "* openssh\n",
    "\n",
    "* git (optional for cloning, below)\n",
    "\n",
    "* python3-ipython (optional)\n",
    "\n",
    "\n",
    "## 2. Download Miniconda / Anaconda / [Spyder](https://pythonhosted.org/spyder/installation.html).\n",
    "\n",
    "## 3. Install / configure pip\n",
    "\n",
    "## 4. Get the course repo:\n",
    "\n",
    "### Clone:\n",
    "\n",
    "#### Cygwin Terminal (Windows)\n",
    "```\n",
    "cd /cygdrive/c/Users/$USER/Documents/ITEC621\n",
    "git clone https://github.com/gmf05/ITEC696.git repo\n",
    "```\n",
    "\n",
    "#### Unix Terminal (Mac/Linux)\n",
    "```\n",
    "cd ~/Documents/ITEC621\n",
    "git clone https://github.com/gmf05/ITEC696.git repo\n",
    "```\n",
    "\n",
    "### Download:\n",
    "\n",
    "Download the repo as a `.zip` file and unpack it into your working directory.\n",
    "\n",
    "\n",
    "#### Cygwin Terminal (Windows)\n",
    "```\n",
    "cd /cygdrive/c/Users/$USER/Documents/ITEC621\n",
    "unzip /cygdrive/c/Users/$USER/Downloads/ITEC621-master.zip\n",
    "mv ITC621-master repo\n",
    "rm /cygdrive/c/Users/$USER/Downloads/ITEC621-master.zip\n",
    "```\n",
    "\n",
    "#### Unix Terminal (Mac/Linux)\n",
    "```\n",
    "cd ~/Documents/ITEC621\n",
    "unzip ~/Downloads/ITEC621-master.zip\n",
    "mv ITC621-master repo\n",
    "rm ~/Downloads/ITEC621-master.zip\n",
    "```\n",
    "\n",
    "## 5. Create virtual environment and install packages\n",
    "\n",
    "Windows\n",
    "```\n",
    "\n",
    "# create virtual environment\n",
    "# TODO: FIX\n",
    "python3 -m venv env/python/<YOUR ENVIRONMENT NAME>\n",
    "\n",
    "# activate virtual environment\n",
    "# TODO: FIX\n",
    "source env/python/<YOUR ENVIRONMENT NAME>/bin/activate\n",
    "\n",
    "# install packages from list\n",
    "pip install -r repo/requirements.txt\n",
    "\n",
    "```\n",
    "\n",
    "Mac/Linux\n",
    "```\n",
    "\n",
    "# see where Python 3 lives before (optional)\n",
    "which python3  \n",
    "\n",
    "# create virtual environment\n",
    "python3 -m venv env/python/<YOUR ENVIRONMENT NAME>\n",
    "\n",
    "# activate virtual environment\n",
    "source env/python/<YOUR ENVIRONMENT NAME>/bin/activate\n",
    "\n",
    "# verify where Python 3 and pip are called now (optional)\n",
    "which python3\n",
    "which pip \n",
    "\n",
    "# install packages from list\n",
    "pip install -r repo/requirements.txt\n",
    "\n",
    "```\n",
    "\n",
    "##\n",
    "\n",
    "# Setting Up (Remotely)\n",
    "\n",
    "## 1. Download and move key\n",
    "\n",
    "Start a Terminal (Mac/Linux) or Cygwin Terminal (Windows)\n",
    "\n",
    "#### Cygwin Terminal (Windows)\n",
    "```\n",
    "mkdir ~/.ssh # if it doesn't exist already\n",
    "mv /cygdrive/c/Users/$USER/Downloads/MYKEY.pem ~/.ssh/\n",
    "```\n",
    "\n",
    "#### Unix Terminal (Mac/Linux)\n",
    "```\n",
    "mkdir ~/.ssh # if it doesn't exist already\n",
    "mv $HOME/Downloads/<KEY FILE> ~/.ssh/\n",
    "```\n",
    "\n",
    "## 2. Login\n",
    "\n",
    "`ssh -i ~/MYKEY.pem <STUDENT ID>@neurocoding.info`\n",
    "\n",
    "## 3. Create virtual environment and install packages:\n",
    "\n",
    "```\n",
    "\n",
    "# see where Python 3 lives before\n",
    "which python3 \n",
    "\n",
    "# create virtual environment\n",
    "python3 -m venv env/python/<YOUR ENVIRONMENT NAME>\n",
    "\n",
    "# activate virtual environment\n",
    "source env/python/<YOUR ENVIRONMENT NAME>/bin/activate\n",
    "\n",
    "# notice the tag with <YOUR ENVIRONMENT NAME> that's now\n",
    "# displayed in the shell\n",
    "\n",
    "# verify where Python 3 and pip are called now \n",
    "which python3\n",
    "which pip \n",
    "\n",
    "# install packages\n",
    "pip install ipython\n",
    "pip install jupyter\n",
    "which ipython\n",
    "\n",
    "# install packages from list\n",
    "pip install -r repo/requirements.txt\n",
    "\n",
    "```\n",
    "\n",
    "## 4. Make virtual environment start automatically from now on\n",
    "\n",
    "```\n",
    "echo \"source env/python/<YOUR ENVIRONMENT NAME>/bin/activate\" >> ~/.profile\n",
    "source ~/.profile\n",
    "```\n",
    "\n",
    "## 5. Start Jupyter Notebook behind screen:\n",
    "\t\n",
    "```\n",
    "screen\n",
    "jupyter notebook\n",
    "```\n",
    "\n",
    "Then hit `CTRL+A` followed by `CTRL+D` to detach from the screen session and type `exit` to leave the SSH connection.\n",
    "\n",
    "\n",
    "## 6. Start an SSH tunnel\n",
    "\n",
    "`ssh -i ~/.ssh/<KEY NAME> -f -N -L 8888:localhost:8888 <STUDENT ID>@neurocoding.info`\n",
    "\n",
    "## 7. Connect to Jupyter Notebook\n",
    "\n",
    "Open a web browser and navigate to `localhost:8888`\n",
    "\n",
    "\n",
    "\n"
   ]
  },
  {
   "cell_type": "markdown",
   "metadata": {
    "nbpresent": {
     "id": "ef60008f-126a-4873-bcb6-4d503c4a65f5"
    }
   },
   "source": [
    "## 1. Section 1#\n",
    "\n",
    "### Subsection 1#\n",
    "Subsection text. Subsection text with `inline code` and $\\LaTeX, ~~ y=mx+b$. This is more text.\n",
    "\n",
    "### Subsection 2#\n",
    "\n",
    "\n",
    "Python Code\n",
    "```python\n",
    "\n",
    "print('asdf')\n",
    "\n",
    "```\n",
    "Generic Code\n",
    "```\n",
    "print('asdf')\n",
    "```\n",
    "\n",
    "List\n",
    "* A\n",
    "* B\n",
    "\n",
    "LaTeX Code\n",
    "#### Formula 1#\n",
    "$$ y = mx + b $$\n",
    "\n"
   ]
  },
  {
   "cell_type": "code",
   "execution_count": 9,
   "metadata": {
    "collapsed": false
   },
   "outputs": [],
   "source": [
    "# Preliminaries\n",
    "from unit1.code import *\n"
   ]
  },
  {
   "cell_type": "markdown",
   "metadata": {},
   "source": [
    "\n",
    "## 2. Section 2#\n",
    "\n",
    "### Subsection 1#\n",
    "\n",
    "### Subsection 2#\n"
   ]
  },
  {
   "cell_type": "markdown",
   "metadata": {},
   "source": [
    "## 3. Section 3#\n",
    "\n",
    "### Subsection 1#\n",
    "\n",
    "### Subsection 2#\n"
   ]
  },
  {
   "cell_type": "markdown",
   "metadata": {},
   "source": [
    "# 4. Section 4#\n",
    "\n",
    "### Subsection 1#\n",
    "\n",
    "### Subsection 2#\n"
   ]
  },
  {
   "cell_type": "markdown",
   "metadata": {},
   "source": [
    "\n",
    "# Section 5#\n",
    "\n",
    "\n",
    "Python Code\n",
    "```python\n",
    "\n",
    "print('asdf')\n",
    "\n",
    "```\n",
    "Generic Code\n",
    "```\n",
    "print('asdf')\n",
    "```\n",
    "\n",
    "List\n",
    "* A\n",
    "* B\n",
    "\n",
    "LaTeX Code\n",
    "$$ y = mx + b $$\n"
   ]
  },
  {
   "cell_type": "code",
   "execution_count": 10,
   "metadata": {
    "collapsed": true,
    "type": "GLOBAL"
   },
   "outputs": [],
   "source": [
    "# Global Python Code"
   ]
  },
  {
   "cell_type": "code",
   "execution_count": 11,
   "metadata": {
    "collapsed": false,
    "type": "DEMO"
   },
   "outputs": [
    {
     "name": "stdout",
     "output_type": "stream",
     "text": [
      "asdf\n"
     ]
    }
   ],
   "source": [
    "# Demo\n",
    "# Demo Python Code\n",
    "print('asdf')\n",
    "\n",
    "# Demo"
   ]
  },
  {
   "cell_type": "code",
   "execution_count": null,
   "metadata": {
    "collapsed": true
   },
   "outputs": [],
   "source": []
  }
 ],
 "metadata": {
  "anaconda-cloud": {},
  "celltoolbar": "Edit Metadata",
  "kernelspec": {
   "display_name": "Python [default]",
   "language": "python",
   "name": "python3"
  },
  "language_info": {
   "codemirror_mode": {
    "name": "ipython",
    "version": 3
   },
   "file_extension": ".py",
   "mimetype": "text/x-python",
   "name": "python",
   "nbconvert_exporter": "python",
   "pygments_lexer": "ipython3",
   "version": "3.5.2"
  },
  "nbpresent": {
   "slides": {},
   "themes": {}
  }
 },
 "nbformat": 4,
 "nbformat_minor": 1
}
