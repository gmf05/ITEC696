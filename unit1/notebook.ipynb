{
 "cells": [
  {
   "cell_type": "markdown",
   "metadata": {},
   "source": [
    "# Unit 1: Getting Started#"
   ]
  },
  {
   "cell_type": "code",
   "execution_count": 3,
   "metadata": {},
   "outputs": [
    {
     "data": {
      "text/markdown": [
       "# Table of Contents"
      ],
      "text/plain": [
       "<IPython.core.display.Markdown object>"
      ]
     },
     "metadata": {},
     "output_type": "display_data"
    },
    {
     "data": {
      "text/markdown": [
       "* [Unit 1: Getting Started](#Unit-1:-Getting-Started)\n",
       " * [Download [Cygwin](https://cygwin.com/install.html) (Windows users only)](#Download-[Cygwin](https://cygwin.com/install.html)-(Windows-users-only))\n",
       " * [Installing pip/Anaconda](#Installing-pip/Anaconda)\n",
       " * [Virtual environments](#Virtual-environments)\n",
       " * [Installing libraries](#Installing-libraries)\n",
       " * [Pip freeze / Load](#Pip-freeze-/-Load)\n",
       " * [Installing an IDE](#Installing-an-IDE)\n",
       " * [Section Head](#Section-Head)"
      ],
      "text/plain": [
       "<IPython.core.display.Markdown object>"
      ]
     },
     "metadata": {},
     "output_type": "display_data"
    }
   ],
   "source": [
    "from shared import display_unit_toc\n",
    "display_unit_toc('notebook.ipynb')"
   ]
  },
  {
   "cell_type": "markdown",
   "metadata": {},
   "source": [
    "## Download [Cygwin](https://cygwin.com/install.html) (Windows users only)#\n",
    "\n",
    "Run the setup file and choose a mirror. Then find and double click the following additional Cygwin packages to install them:\n",
    "\n",
    "* openssh\n",
    "\n",
    "* git (optional for cloning, see below)\n",
    "\n",
    "* python3-ipython (optional)"
   ]
  },
  {
   "cell_type": "markdown",
   "metadata": {},
   "source": [
    "\n",
    "## Get the Course Repo#\n",
    "\n",
    "### Option A: Clone\n",
    "\n",
    "#### Cygwin Terminal (Windows)\n",
    "\n",
    "```bash\n",
    "cd /cygdrive/c/Users/$USER/Documents/ITEC621\n",
    "git clone https://github.com/gmf05/ITEC696.git repo\n",
    "```\n",
    "\n",
    "#### Unix Terminal (Mac/Linux)\n",
    "```bash\n",
    "cd ~/Documents/ITEC621\n",
    "git clone https://github.com/gmf05/ITEC696.git repo\n",
    "```\n",
    "\n",
    "### Option B: Download\n",
    "\n",
    "Download the repo as a `.zip` file and unpack it into your working directory.\n",
    "\n",
    "\n",
    "#### Cygwin Terminal (Windows)\n",
    "```bash\n",
    "cd /cygdrive/c/Users/$USER/Documents/ITEC621\n",
    "unzip /cygdrive/c/Users/$USER/Downloads/ITEC621-master.zip\n",
    "mv ITC621-master repo\n",
    "rm /cygdrive/c/Users/$USER/Downloads/ITEC621-master.zip\n",
    "```\n",
    "\n",
    "#### Unix Terminal (Mac/Linux)\n",
    "```bash\n",
    "cd ~/Documents/ITEC621\n",
    "unzip ~/Downloads/ITEC621-master.zip\n",
    "mv ITC621-master repo\n",
    "rm ~/Downloads/ITEC621-master.zip\n",
    "```\n",
    "\n",
    "\n"
   ]
  },
  {
   "cell_type": "markdown",
   "metadata": {},
   "source": [
    "## Installing Python#\n",
    "\n",
    "Install [Miniconda](https://conda.io/miniconda.html) or  [Anaconda](https://www.anaconda.com/download/)\n"
   ]
  },
  {
   "cell_type": "markdown",
   "metadata": {},
   "source": [
    "## Virtual environments#\n",
    "\n",
    "Windows\n",
    "```bash\n",
    "\n",
    "# create virtual environment\n",
    "# TODO: FIX\n",
    "python3 -m venv env/python/<YOUR ENVIRONMENT NAME>\n",
    "\n",
    "# activate virtual environment\n",
    "# TODO: FIX\n",
    "source env/python/<YOUR ENVIRONMENT NAME>/bin/activate\n",
    "\n",
    "# install packages from list\n",
    "pip install -r repo/requirements.txt\n",
    "\n",
    "```\n",
    "\n",
    "Mac/Linux\n",
    "```bash\n",
    "\n",
    "# see where Python 3 lives before (optional)\n",
    "which python3  \n",
    "\n",
    "# create virtual environment\n",
    "python3 -m venv env/python/<YOUR ENVIRONMENT NAME>\n",
    "\n",
    "# activate virtual environment\n",
    "source env/python/<YOUR ENVIRONMENT NAME>/bin/activate\n",
    "\n",
    "# verify where Python 3 and pip are called now (optional)\n",
    "which python3\n",
    "which pip \n",
    "\n",
    "# install packages from list\n",
    "pip install -r repo/requirements.txt\n",
    "\n",
    "```\n"
   ]
  },
  {
   "cell_type": "markdown",
   "metadata": {},
   "source": [
    "## Installing libraries#\n"
   ]
  },
  {
   "cell_type": "markdown",
   "metadata": {},
   "source": [
    "## Pip freeze / Load#\n"
   ]
  },
  {
   "cell_type": "markdown",
   "metadata": {},
   "source": [
    "## Installing an IDE#\n",
    "\n",
    "Install [Spyder](https://pythonhosted.org/spyder)\n",
    "\n",
    "```bash\n",
    "conda install -c anaconda spyder\n",
    "```"
   ]
  },
  {
   "cell_type": "markdown",
   "metadata": {},
   "source": [
    "\n",
    "## Setting PYTHONPATH#\n"
   ]
  },
  {
   "cell_type": "markdown",
   "metadata": {},
   "source": [
    "## Running our first code#\n",
    "Either with Jupyter Notebook or Spyder"
   ]
  },
  {
   "cell_type": "markdown",
   "metadata": {},
   "source": [
    "\n",
    "## Remote setup (Optional)#\n",
    "\n",
    "### 1. Download and move key\n",
    "\n",
    "Start a Terminal (Mac/Linux) or Cygwin Terminal (Windows)\n",
    "\n",
    "#### Cygwin Terminal (Windows)\n",
    "```bash\n",
    "mkdir ~/.ssh # if it doesn't exist already\n",
    "mv /cygdrive/c/Users/$USER/Downloads/MYKEY.pem ~/.ssh/\n",
    "```\n",
    "\n",
    "#### Unix Terminal (Mac/Linux)\n",
    "```bash\n",
    "mkdir ~/.ssh # if it doesn't exist already\n",
    "mv $HOME/Downloads/<KEY FILE> ~/.ssh/\n",
    "```\n",
    "\n",
    "### 2. Login\n",
    "\n",
    "```bash\n",
    "ssh -i ~/MYKEY.pem <STUDENT ID>@neurocoding.info\n",
    "```\n",
    "\n",
    "### 3. Create virtual environment and install packages:\n",
    "\n",
    "```bash\n",
    "\n",
    "# see where Python 3 lives before\n",
    "which python3 \n",
    "\n",
    "# create virtual environment\n",
    "python3 -m venv env/python/<YOUR ENVIRONMENT NAME>\n",
    "\n",
    "# activate virtual environment\n",
    "source env/python/<YOUR ENVIRONMENT NAME>/bin/activate\n",
    "\n",
    "# notice the tag with <YOUR ENVIRONMENT NAME> that's now\n",
    "# displayed in the shell\n",
    "\n",
    "# verify where Python 3 and pip are called now \n",
    "which python3\n",
    "which pip \n",
    "\n",
    "# install packages\n",
    "pip install ipython\n",
    "pip install jupyter\n",
    "which ipython\n",
    "\n",
    "# install packages from list\n",
    "pip install -r repo/requirements.txt\n",
    "\n",
    "```\n",
    "\n",
    "### 4. Make virtual environment start automatically from now on\n",
    "\n",
    "```bash\n",
    "echo \"source env/python/<YOUR ENVIRONMENT NAME>/bin/activate\" >> ~/.profile\n",
    "source ~/.profile\n",
    "```\n",
    "\n",
    "### 5. Start Jupyter Notebook behind screen:\n",
    "\t\n",
    "```bash\n",
    "screen\n",
    "jupyter notebook\n",
    "```\n",
    "\n",
    "Then hit `CTRL+A` followed by `CTRL+D` to detach from the screen session and type `exit` to leave the SSH connection.\n",
    "\n",
    "\n",
    "### 6. Start an SSH tunnel\n",
    "\n",
    "```bash\n",
    "ssh -i ~/.ssh/<KEY NAME> -f -N -L 8888:localhost:8888 <STUDENT ID>@neurocoding.info\n",
    "```\n",
    "\n",
    "### 7. Connect to Jupyter Notebook\n",
    "\n",
    "Open a web browser and navigate to `localhost:8888`\n",
    "\n"
   ]
  },
  {
   "cell_type": "markdown",
   "metadata": {},
   "source": [
    "## Section Head#\n",
    "\n",
    "### Subsection 1#\n",
    "Subsection text. Subsection text with `inline code` and $\\LaTeX, ~~ y=mx+b$. This is more text.\n",
    "\n",
    "### Subsection 2#\n",
    "\n",
    "\n",
    "Python Code\n",
    "```python\n",
    "\n",
    "print('asdf')\n",
    "\n",
    "```\n",
    "Generic Code\n",
    "```\n",
    "print('asdf')\n",
    "```\n",
    "\n",
    "List\n",
    "* A\n",
    "* B\n",
    "\n",
    "LaTeX Code\n",
    "#### Formula 1#\n",
    "$$ y = mx + b $$\n",
    "\n"
   ]
  },
  {
   "cell_type": "code",
   "execution_count": 2,
   "metadata": {
    "type": "DEMO"
   },
   "outputs": [
    {
     "name": "stdout",
     "output_type": "stream",
     "text": [
      "asdf\n"
     ]
    }
   ],
   "source": [
    "# Demo\n",
    "# Demo Python Code\n",
    "print('asdf')\n",
    "\n",
    "# Demo"
   ]
  },
  {
   "cell_type": "code",
   "execution_count": null,
   "metadata": {},
   "outputs": [],
   "source": []
  }
 ],
 "metadata": {
  "anaconda-cloud": {},
  "celltoolbar": "Edit Metadata",
  "kernelspec": {
   "display_name": "Python 3",
   "language": "python",
   "name": "python3"
  },
  "language_info": {
   "codemirror_mode": {
    "name": "ipython",
    "version": 3
   },
   "file_extension": ".py",
   "mimetype": "text/x-python",
   "name": "python",
   "nbconvert_exporter": "python",
   "pygments_lexer": "ipython3",
   "version": "3.6.2"
  },
  "nbpresent": {
   "slides": {},
   "themes": {}
  }
 },
 "nbformat": 4,
 "nbformat_minor": 1
}
